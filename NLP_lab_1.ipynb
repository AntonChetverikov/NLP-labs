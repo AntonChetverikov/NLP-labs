{
 "cells": [
  {
   "cell_type": "markdown",
   "metadata": {},
   "source": [
    "# Лабораторная работа №1 по курсу “Компьютерная лингвистика”\n",
    "## Создание PoS-теггера \n",
    "\n",
    "#### Выполнил: студент группы 381703-4м Четвериков Антон\n",
    "\n",
    "## Постановка задачи\n",
    "Предлагается реализовать алгоритм Витерби для создания PoS-тэггера. POS tagging (part-of-speech tagging, частеречная разметка, автоматическая морфологическая разметка) — этап автоматической обработки текста, задачей которого является определение части речи и грамматических характеристик слов в тексте (корпусе) с приписыванием им соответствующих тегов. POS tagging является одним из первых этапов компьютерного анализа текста.\n",
    "\n",
    "На языке Python/R необходимо разработать PoS-тэггер на базе скрытых марковских цепей и алгоритма Витерби.\n",
    "\n",
    "В качестве тренировочной/тестовой выборки необходимо использовать корпуса Universal Dependencies: http://universaldependencies.org/ для хорватского  и японского языков.\n",
    "Корпуса хранятся в формате CoNLL-U.\n",
    "\n",
    "\n",
    "Необходимо обучить модель скрытой марковской цепи, а затем испытать её на тестовой и валидационной выборках.\n",
    "Получить показатели точности для заданных языков (как отношение корректно размеченных тэгов к общему числу тэгов)."
   ]
  },
  {
   "cell_type": "markdown",
   "metadata": {},
   "source": [
    "## Описание формата CoNLL-U \n",
    "CoNLL-U a revised version of the CoNLL-X format. Annotations are encoded in plain text files (UTF-8, using only the LF character as line break, including an LF character at the end of file) with three types of lines:\n",
    "\n",
    "#### 1.Word lines containing the annotation of a word/token in 10 fields separated by single tab characters; see below.\n",
    "#### 2.Blank lines marking sentence boundaries.\n",
    "#### 3.Comment lines starting with hash (#).\n",
    "Sentences consist of one or more word lines, and word lines contain the following fields:\n",
    "\n",
    "1.ID: Word index, integer starting at 1 for each new sentence; may be a range for multiword tokens; may be a decimal number for empty nodes.\n",
    "\n",
    "2.FORM: Word form or punctuation symbol.\n",
    "\n",
    "3.LEMMA: Lemma or stem of word form.\n",
    "\n",
    "4.UPOS: Universal part-of-speech tag.\n",
    "\n",
    "5.XPOS: Language-specific part-of-speech tag; underscore if not available.\n",
    "\n",
    "6.FEATS: List of morphological features from the universal feature inventory or from a defined language-specific extension; underscore if not available.\n",
    "\n",
    "7.HEAD: Head of the current word, which is either a value of ID or zero (0).\n",
    "\n",
    "8.DEPREL: Universal dependency relation to the HEAD (root iff HEAD = 0) or a defined language-specific subtype of one.\n",
    "\n",
    "9.DEPS: Enhanced dependency graph in the form of a list of head-deprel pairs.\n",
    "\n",
    "10.MISC: Any other annotation."
   ]
  },
  {
   "cell_type": "markdown",
   "metadata": {
    "collapsed": true
   },
   "source": [
    "В алгоритме используются поля lemma и upostag."
   ]
  },
  {
   "cell_type": "markdown",
   "metadata": {},
   "source": [
    "### Universal POS tags:\n",
    "* ADJ: adjective - имя прилагательное\n",
    "* ADP: adposition - предлог\n",
    "* ADV: adverb - наречие\n",
    "* AUX: auxiliary - вспомогательная часть речи\n",
    "* CCONJ: coordinating conjunction - координирующие союзы\n",
    "* DET: determiner - детерминатив (определяющее слово)\n",
    "* INTJ: interjection - междометие\n",
    "* NOUN: noun - имя существительное\n",
    "* NUM: numeral - имя числительное\n",
    "* PART: particle - частица\n",
    "* PRON: pronoun - местоимение\n",
    "* PROPN: proper noun - имя собственное\n",
    "* PUNCT: punctuation - пунктуационный символ\n",
    "* SCONJ: subordinating conjunction - подчинительный союз\n",
    "* SYM: symbol - символ\n",
    "* VERB: verb - глагол\n",
    "* X: other - другое"
   ]
  },
  {
   "cell_type": "markdown",
   "metadata": {},
   "source": [
    "## Хорватский язык\n",
    "Хорватский язык относится к славянской группе индоевропейской семьи языков. Письменность на основе латинского алфавита. Около 6,2 миллионов говорящих.\n",
    "\n",
    "Хорватский язык — часть сербско-хорватского языкового континуума. Хорватский язык объединяет литературный стандарт и территориальные диалекты. В число хорватских диалектных групп включают:\n",
    "\n",
    "* штокавская группа диалектов — 57 % говорящих,\n",
    "* кайкавская группа диалектов — 31 % говорящих,\n",
    "* чакавская группа диалектов — 12 % говорящих.\n",
    "\n",
    "В основе современного хорватского алфавита (gajica) лежит латиница, он состоит из 27 букв и трёх диграфов (составных письменных знаков, состоящих из двух букв и употребляемых для обозначения на письме фонем и их основных вариантов), обычно также считающихся буквами."
   ]
  },
  {
   "cell_type": "code",
   "execution_count": 1,
   "metadata": {
    "collapsed": true
   },
   "outputs": [],
   "source": [
    "import HMM_Viterbi_tagger as tagger\n",
    "import numpy as np"
   ]
  },
  {
   "cell_type": "code",
   "execution_count": 2,
   "metadata": {
    "collapsed": true
   },
   "outputs": [],
   "source": [
    "train_file_hr = \"hr_set-ud-train.conllu\"    # Train corpus, already POS-tagged\n",
    "test_file_hr = \"hr_set-ud-test.conllu\"      # Test corpus"
   ]
  },
  {
   "cell_type": "markdown",
   "metadata": {},
   "source": [
    "Применяем реализованный алгоритм для тренировочного корпуса:"
   ]
  },
  {
   "cell_type": "code",
   "execution_count": 3,
   "metadata": {},
   "outputs": [],
   "source": [
    "test_tags = []                              # Tags from corpus\n",
    "predict_tags = []                           # Tags from algorithm\n",
    "\n",
    "test_tags, predict_tags = tagger.HMM_Viterbi_POStagger(train_file_hr, train_file_hr)\n",
    "\n",
    "train_err = 0.\n",
    "for sent in range(len(test_tags)):\n",
    "    train_err += np.mean(np.array(test_tags[sent]) != np.array(predict_tags[sent]))"
   ]
  },
  {
   "cell_type": "markdown",
   "metadata": {},
   "source": [
    "Ошибка на тренировочном корпусе составила:"
   ]
  },
  {
   "cell_type": "code",
   "execution_count": 4,
   "metadata": {},
   "outputs": [
    {
     "name": "stdout",
     "output_type": "stream",
     "text": [
      "Train error =  0.0206541478685\n"
     ]
    }
   ],
   "source": [
    "print(\"Train error = \", train_err/len(test_tags))"
   ]
  },
  {
   "cell_type": "markdown",
   "metadata": {},
   "source": [
    "Применяем реализованный алгоритм для тестового корпуса:"
   ]
  },
  {
   "cell_type": "code",
   "execution_count": 5,
   "metadata": {},
   "outputs": [],
   "source": [
    "test_tags = []                              # Tags from corpus\n",
    "predict_tags = []                           # Tags from algorithm\n",
    "\n",
    "test_tags, predict_tags = tagger.HMM_Viterbi_POStagger(train_file_hr, test_file_hr)\n",
    "\n",
    "test_err = 0.\n",
    "for sent in range(len(test_tags)):\n",
    "    test_err += np.mean(np.array(test_tags[sent]) != np.array(predict_tags[sent]))"
   ]
  },
  {
   "cell_type": "markdown",
   "metadata": {},
   "source": [
    "Ошибка на тестовом корпусе составила:"
   ]
  },
  {
   "cell_type": "code",
   "execution_count": 6,
   "metadata": {},
   "outputs": [
    {
     "name": "stdout",
     "output_type": "stream",
     "text": [
      "Test error =  0.0656697207044\n"
     ]
    }
   ],
   "source": [
    "print(\"Test error = \", test_err/len(test_tags))"
   ]
  },
  {
   "cell_type": "markdown",
   "metadata": {},
   "source": [
    "\n",
    "Японский язык пока так и не получилось адекватно распарсить, поэтому в качестве замены ему выбран шведский язык."
   ]
  },
  {
   "cell_type": "markdown",
   "metadata": {},
   "source": [
    "## Шведский язык\n",
    "Шведский язык — язык восточной подгруппы скандинавской группы языков, на котором говорят в Швеции, части Финляндии и на автономных Аландских островах. Самый распространённый язык Скандинавии, число носителей превосходит 9 миллионов.\n",
    "\n",
    "Алфавит шведского языка — латинский, с буквами Å, Ä, и Ö (в таком порядке в конце алфавита), а также É. До 2006 буква W считалась не самостоятельной буквой, а аналогом V, и использовалась лишь в именах иностранного происхождения и заимствованиях. В 2006 году W была включена в алфавит. При широком многообразии диалектов и говоров письменный шведский единообразен и стандартизован."
   ]
  },
  {
   "cell_type": "code",
   "execution_count": 7,
   "metadata": {
    "collapsed": true
   },
   "outputs": [],
   "source": [
    "train_file_sw = \"sv_talbanken-ud-train.conllu\"    # Train corpus, already POS-tagged\n",
    "test_file_sw = \"sv_talbanken-ud-test.conllu\"      # Test corpus"
   ]
  },
  {
   "cell_type": "markdown",
   "metadata": {},
   "source": [
    "Применяем реализованный алгоритм для тренировочного корпуса:"
   ]
  },
  {
   "cell_type": "code",
   "execution_count": 8,
   "metadata": {},
   "outputs": [],
   "source": [
    "test_tags = []                                    # Tags from corpus\n",
    "predict_tags = []                                 # Tags from algorithm\n",
    "\n",
    "test_tags, predict_tags = tagger.HMM_Viterbi_POStagger(train_file_sw, train_file_sw)\n",
    "\n",
    "train_err = 0.\n",
    "for sent in range(len(test_tags)):\n",
    "    train_err += np.mean(np.array(test_tags[sent]) != np.array(predict_tags[sent]))"
   ]
  },
  {
   "cell_type": "markdown",
   "metadata": {},
   "source": [
    "Ошибка на тренировочном корпусе составила:"
   ]
  },
  {
   "cell_type": "code",
   "execution_count": 9,
   "metadata": {},
   "outputs": [
    {
     "name": "stdout",
     "output_type": "stream",
     "text": [
      "Train error =  0.0306882925287\n"
     ]
    }
   ],
   "source": [
    "print(\"Train error = \", train_err/len(test_tags))"
   ]
  },
  {
   "cell_type": "markdown",
   "metadata": {},
   "source": [
    "Применяем реализованный алгоритм для тестового корпуса:"
   ]
  },
  {
   "cell_type": "code",
   "execution_count": 10,
   "metadata": {
    "collapsed": true
   },
   "outputs": [],
   "source": [
    "test_tags = []                                    # Tags from corpus\n",
    "predict_tags = []                                 # Tags from algorithm\n",
    "\n",
    "test_tags, predict_tags = tagger.HMM_Viterbi_POStagger(train_file_sw, test_file_sw)\n",
    "\n",
    "test_err = 0.\n",
    "for sent in range(len(test_tags)):\n",
    "    test_err += np.mean(np.array(test_tags[sent]) != np.array(predict_tags[sent]))"
   ]
  },
  {
   "cell_type": "markdown",
   "metadata": {},
   "source": [
    "Ошибка на тестовом корпусе составила:"
   ]
  },
  {
   "cell_type": "code",
   "execution_count": 7,
   "metadata": {},
   "outputs": [
    {
     "name": "stdout",
     "output_type": "stream",
     "text": [
      "Test error =  0.111610126\n"
     ]
    }
   ],
   "source": [
    "print(\"Test error = \", test_err/len(test_tags))"
   ]
  },
  {
   "cell_type": "code",
   "execution_count": null,
   "metadata": {
    "collapsed": true
   },
   "outputs": [],
   "source": []
  }
 ],
 "metadata": {
  "kernelspec": {
   "display_name": "Python 3",
   "language": "python",
   "name": "python3"
  },
  "language_info": {
   "codemirror_mode": {
    "name": "ipython",
    "version": 3
   },
   "file_extension": ".py",
   "mimetype": "text/x-python",
   "name": "python",
   "nbconvert_exporter": "python",
   "pygments_lexer": "ipython3",
   "version": "3.6.2"
  }
 },
 "nbformat": 4,
 "nbformat_minor": 2
}
