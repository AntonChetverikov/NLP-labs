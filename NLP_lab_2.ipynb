{
 "cells": [
  {
   "cell_type": "markdown",
   "metadata": {},
   "source": [
    "# Лабораторная работа №2 по курсу “Компьютерная лингвистика”\n",
    "\n",
    "#### Выполнил: студент группы 381703-4м Четвериков Антон\n",
    "\n",
    "## Постановка задачи\n",
    "\n",
    "\n",
    "В первой части нужно создать переводчик с украинского языка на русский на основе домашней работы #1 с Яндекс ШАД.\n",
    "\n",
    "Вторая часть лабораторной работы состоит в исследовании свойств кросс-языкового отображения.\n",
    "Предлагается использовать модель FastText для векторных репрезентаций слов. Для модели FastText можно найти и использовать предобученные векторы.\n",
    "\n",
    "Необходимо загрузить две модели векторных репрезентаций (по аналогии с домашней работой из ШАД), и построить матрицу отображения между двумя пространствами. \n",
    "\n",
    "В качестве слов соответствия можно взять словари, поставляемые FaceBook (Ground-truth bilingual dictionaries).\n",
    "\n",
    "Взять 2 набора по 300-500 слов из словаря отображений слов (обозначим их pair1 и pair2) и построить две матрицы M1, M2 отображений между пространствами векторных репрезентаций. Для решения матричного уравнения воспользуйтесь функцией np.linalg.lstsq (в NumPy). \n",
    "\n",
    "* Подсчитайте точность перевода языковых пар pair1, pair2 для матрицы M1\n",
    "* Подсчитайте точность перевода языковых пар pair1, pair2 для матрицы M2\n",
    "* Подсчитайте норму Фробениуса для матрицы M1-M2\n",
    "* Подсчитайте: |M1-M2|/|M1| (норма - Фробениусова).\n",
    "* Обладает ли матрица отображения свойством линейности?\n",
    "* Ортогональны ли матрицы M1 и M2?\n",
    "\n",
    "Повторите процедуру в обе стороны: французский -> португальский и португальский -> французский"
   ]
  },
  {
   "cell_type": "markdown",
   "metadata": {},
   "source": [
    "## Часть 1: переводчик с украинского на русский"
   ]
  },
  {
   "cell_type": "code",
   "execution_count": 1,
   "metadata": {
    "collapsed": true
   },
   "outputs": [],
   "source": [
    "import gensim\n",
    "import numpy as np\n",
    "from gensim.models import KeyedVectors\n",
    "import warnings\n",
    "warnings.filterwarnings('ignore')"
   ]
  },
  {
   "cell_type": "markdown",
   "metadata": {},
   "source": [
    "Загружаем векторные представления слов для русского и украинского языков:"
   ]
  },
  {
   "cell_type": "code",
   "execution_count": 2,
   "metadata": {
    "collapsed": true
   },
   "outputs": [],
   "source": [
    "uk_emb = KeyedVectors.load_word2vec_format(\"cc.uk.300.vec\", limit = 100000)"
   ]
  },
  {
   "cell_type": "code",
   "execution_count": 3,
   "metadata": {
    "collapsed": true
   },
   "outputs": [],
   "source": [
    "ru_emb = KeyedVectors.load_word2vec_format(\"cc.ru.300.vec\", limit = 100000)"
   ]
  },
  {
   "cell_type": "markdown",
   "metadata": {},
   "source": [
    "Загружаем небольшие словари для соответствующих пар слов в качестве тренировочного и тестового множеств:"
   ]
  },
  {
   "cell_type": "code",
   "execution_count": 4,
   "metadata": {},
   "outputs": [
    {
     "data": {
      "text/plain": [
       "[('август', 1.0),\n",
       " ('июль', 0.9383152723312378),\n",
       " ('сентябрь', 0.9240028262138367),\n",
       " ('июнь', 0.9222576022148132),\n",
       " ('октябрь', 0.9095539450645447),\n",
       " ('ноябрь', 0.8930035829544067),\n",
       " ('апрель', 0.8729087710380554),\n",
       " ('декабрь', 0.8652558326721191),\n",
       " ('март', 0.8545796871185303),\n",
       " ('февраль', 0.8401416540145874)]"
      ]
     },
     "execution_count": 4,
     "metadata": {},
     "output_type": "execute_result"
    }
   ],
   "source": [
    "ru_emb.most_similar([ru_emb[\"август\"]], topn=10)"
   ]
  },
  {
   "cell_type": "code",
   "execution_count": 5,
   "metadata": {},
   "outputs": [
    {
     "data": {
      "text/plain": [
       "[('серпень', 0.9999999403953552),\n",
       " ('липень', 0.9096439480781555),\n",
       " ('вересень', 0.901697039604187),\n",
       " ('червень', 0.8992520570755005),\n",
       " ('жовтень', 0.8810408115386963),\n",
       " ('листопад', 0.8787633776664734),\n",
       " ('квітень', 0.8592805862426758),\n",
       " ('грудень', 0.8586863279342651),\n",
       " ('травень', 0.840811014175415),\n",
       " ('лютий', 0.8256430625915527)]"
      ]
     },
     "execution_count": 5,
     "metadata": {},
     "output_type": "execute_result"
    }
   ],
   "source": [
    "uk_emb.most_similar([uk_emb[\"серпень\"]])"
   ]
  },
  {
   "cell_type": "code",
   "execution_count": 6,
   "metadata": {},
   "outputs": [
    {
     "data": {
      "text/plain": [
       "[('одностороннего', 0.22608889639377594),\n",
       " ('подход', 0.22305874526500702),\n",
       " ('конструктивное', 0.21656130254268646),\n",
       " ('подхода', 0.2142382711172104),\n",
       " ('аспектах', 0.21134456992149353),\n",
       " ('двустороннего', 0.21055522561073303),\n",
       " ('Продление', 0.2092539370059967),\n",
       " ('Подход', 0.20892634987831116),\n",
       " ('прикладного', 0.20647269487380981),\n",
       " ('Правовое', 0.20550373196601868)]"
      ]
     },
     "execution_count": 6,
     "metadata": {},
     "output_type": "execute_result"
    }
   ],
   "source": [
    "ru_emb.most_similar([uk_emb[\"серпень\"]])"
   ]
  },
  {
   "cell_type": "code",
   "execution_count": 7,
   "metadata": {
    "collapsed": true
   },
   "outputs": [],
   "source": [
    "def load_word_pairs(filename):\n",
    "    uk_ru_pairs = []\n",
    "    uk_vectors = []\n",
    "    ru_vectors = []\n",
    "    with open(filename, \"r\") as inpf:\n",
    "        for line in inpf:\n",
    "            uk, ru = line.rstrip().split(\"\\t\")\n",
    "            if uk not in uk_emb or ru not in ru_emb:\n",
    "                continue\n",
    "            uk_ru_pairs.append((uk, ru))\n",
    "            uk_vectors.append(uk_emb[uk])\n",
    "            ru_vectors.append(ru_emb[ru])\n",
    "    return uk_ru_pairs, np.array(uk_vectors), np.array(ru_vectors)"
   ]
  },
  {
   "cell_type": "code",
   "execution_count": 8,
   "metadata": {
    "collapsed": true
   },
   "outputs": [],
   "source": [
    "uk_ru_train, X_train, Y_train = load_word_pairs(\"ukr_rus.train.txt\")"
   ]
  },
  {
   "cell_type": "code",
   "execution_count": 9,
   "metadata": {
    "collapsed": true
   },
   "outputs": [],
   "source": [
    "uk_ru_test, X_test, Y_test = load_word_pairs(\"ukr_rus.test.txt\")"
   ]
  },
  {
   "cell_type": "markdown",
   "metadata": {},
   "source": [
    "Отображение пространства векторов:"
   ]
  },
  {
   "cell_type": "code",
   "execution_count": 10,
   "metadata": {},
   "outputs": [
    {
     "name": "stdout",
     "output_type": "stream",
     "text": [
      "0.5865652841756943\n",
      "[[-0.07448167  0.02855696  0.00477273 ...  0.05515346  0.07882929\n",
      "   0.02582783]\n",
      " [-0.02114181  0.05680183  0.03354495 ...  0.04378411  0.01170791\n",
      "   0.01858507]\n",
      " [ 0.14141525 -0.02344767  0.04475048 ... -0.00047052  0.04203083\n",
      "  -0.03964063]\n",
      " ...\n",
      " [ 0.02423565  0.01803995 -0.04328831 ... -0.05709656  0.07869115\n",
      "  -0.01255315]\n",
      " [ 0.00024532  0.01675793 -0.00442129 ...  0.05399173  0.07159225\n",
      "  -0.0586846 ]\n",
      " [-0.04930586 -0.02664168 -0.03720228 ...  0.03776162  0.02120709\n",
      "  -0.03378878]]\n"
     ]
    }
   ],
   "source": [
    "from sklearn.linear_model import LinearRegression\n",
    "\n",
    "mapping = LinearRegression().fit(X_train, Y_train)\n",
    "\n",
    "print(mapping.score(X_train, Y_train))\n",
    "print(mapping.coef_)"
   ]
  },
  {
   "cell_type": "markdown",
   "metadata": {},
   "source": [
    "Посмотрим на соседей вектора слова \"серпень\" (\"август\" на русском) после линейного преобразования:"
   ]
  },
  {
   "cell_type": "code",
   "execution_count": 11,
   "metadata": {},
   "outputs": [
    {
     "data": {
      "text/plain": [
       "[('апрель', 0.8620682954788208),\n",
       " ('июнь', 0.8531144261360168),\n",
       " ('март', 0.8480008244514465),\n",
       " ('сентябрь', 0.8477311730384827),\n",
       " ('октябрь', 0.8431620597839355),\n",
       " ('февраль', 0.8424289226531982),\n",
       " ('ноябрь', 0.8402664065361023),\n",
       " ('июль', 0.83543860912323),\n",
       " ('август', 0.8232007026672363),\n",
       " ('декабрь', 0.8181025385856628)]"
      ]
     },
     "execution_count": 11,
     "metadata": {},
     "output_type": "execute_result"
    }
   ],
   "source": [
    "august = mapping.predict(uk_emb[\"серпень\"].reshape(1, -1))\n",
    "ru_emb.most_similar(august)"
   ]
  },
  {
   "cell_type": "code",
   "execution_count": 12,
   "metadata": {},
   "outputs": [
    {
     "data": {
      "text/plain": [
       "[('кот', 0.7645193338394165),\n",
       " ('котик', 0.6762055158615112),\n",
       " ('щенок', 0.6658129096031189),\n",
       " ('пес', 0.6568679809570312),\n",
       " ('котенок', 0.6546679735183716),\n",
       " ('кошка', 0.6465265154838562),\n",
       " ('кролик', 0.6448252201080322),\n",
       " ('пёс', 0.6283379793167114),\n",
       " ('хомяк', 0.6185210943222046),\n",
       " ('заяц', 0.6175106763839722)]"
      ]
     },
     "execution_count": 12,
     "metadata": {},
     "output_type": "execute_result"
    }
   ],
   "source": [
    "ru_emb.most_similar(mapping.predict(uk_emb[\"кіт\"].reshape(1, -1)))"
   ]
  },
  {
   "cell_type": "markdown",
   "metadata": {},
   "source": [
    "Мы можем видеть, что окрестность этого векторного представления состоит из разных месяцев.\n",
    "\n",
    "В качестве показателя качества мы будем использовать точность top-1, top-5 и top-10 (для каждого преобразованного украинского векторного представления мы подсчитываем, сколько правильных пар найдено в первых N ближайших соседях в русском пространстве векторных представлений)."
   ]
  },
  {
   "cell_type": "code",
   "execution_count": 13,
   "metadata": {
    "collapsed": true
   },
   "outputs": [],
   "source": [
    "\"\"\"\n",
    ":args:\n",
    "    pairs = list of right word pairs [(uk_word_0, ru_word_0), ...]\n",
    "    mapped_vectors = list of embeddings after mapping from source embedding space to destination embedding space\n",
    "    topn = the number of nearest neighbours in destination embedding space to choose from\n",
    ":returns:\n",
    "    precision_val, float number, total number of words for those we can find right translation at top K.\n",
    "\"\"\"\n",
    "\n",
    "def precision(pairs, mapped_vectors, topn=1):\n",
    "    assert len(pairs) == len(mapped_vectors)\n",
    "    num_matches = 0\n",
    "    for i, (_, ru) in enumerate(pairs): \n",
    "        mapped_vector = mapped_vectors[i]\n",
    "        if ru in [x for (x,_) in ru_emb.most_similar([mapped_vector],topn=topn)]:\n",
    "            num_matches += 1\n",
    "    precision_val = num_matches / len(pairs)\n",
    "    return precision_val"
   ]
  },
  {
   "cell_type": "code",
   "execution_count": 14,
   "metadata": {
    "collapsed": true
   },
   "outputs": [],
   "source": [
    "assert precision([(\"серпень\", \"август\")], august, topn=5) == 0.0\n",
    "assert precision([(\"серпень\", \"август\")], august, topn=9) == 1.0\n",
    "assert precision([(\"серпень\", \"август\")], august, topn=10) == 1.0"
   ]
  },
  {
   "cell_type": "code",
   "execution_count": 15,
   "metadata": {
    "collapsed": true
   },
   "outputs": [],
   "source": [
    "assert precision(uk_ru_test, X_test) == 0.0\n",
    "assert precision(uk_ru_test, Y_test) == 1.0"
   ]
  },
  {
   "cell_type": "code",
   "execution_count": 16,
   "metadata": {
    "collapsed": true
   },
   "outputs": [],
   "source": [
    "precision_top1 = precision(uk_ru_test, mapping.predict(X_test), 1)\n",
    "precision_top5 = precision(uk_ru_test, mapping.predict(X_test), 5)"
   ]
  },
  {
   "cell_type": "code",
   "execution_count": 17,
   "metadata": {},
   "outputs": [
    {
     "name": "stdout",
     "output_type": "stream",
     "text": [
      "0.6744186046511628\n",
      "0.8255813953488372\n"
     ]
    }
   ],
   "source": [
    "print(precision_top1)\n",
    "print(precision_top5)"
   ]
  },
  {
   "cell_type": "markdown",
   "metadata": {},
   "source": [
    "Попробуем улучшить полученный результат:"
   ]
  },
  {
   "cell_type": "code",
   "execution_count": 18,
   "metadata": {
    "collapsed": true
   },
   "outputs": [],
   "source": [
    "\"\"\" \n",
    ":returns: W* : float matrix[emb_dim x emb_dim] as defined in formulae above\n",
    "\"\"\"\n",
    "\n",
    "def learn_transform(X, Y):\n",
    "    U, s, V = np.linalg.svd(np.matmul(X_train.T,Y_train))\n",
    "    W = np.matmul(U,V)\n",
    "    return W"
   ]
  },
  {
   "cell_type": "code",
   "execution_count": 19,
   "metadata": {},
   "outputs": [
    {
     "name": "stdout",
     "output_type": "stream",
     "text": [
      "0.6831395348837209\n",
      "0.8372093023255814\n"
     ]
    }
   ],
   "source": [
    "W = learn_transform(X_train, Y_train)\n",
    "\n",
    "print(precision(uk_ru_test, np.matmul(X_test, W)))\n",
    "print(precision(uk_ru_test, np.matmul(X_test, W), 5))"
   ]
  },
  {
   "cell_type": "markdown",
   "metadata": {},
   "source": [
    "Получили чуть большую точность."
   ]
  },
  {
   "cell_type": "markdown",
   "metadata": {},
   "source": [
    "Теперь мы готовы создать простой переводчик с украинского на русский - для каждого слова в исходном языке мы находим ближайшее в векторном пространстве для целевого языка."
   ]
  },
  {
   "cell_type": "code",
   "execution_count": 20,
   "metadata": {
    "collapsed": true
   },
   "outputs": [],
   "source": [
    "\"\"\"\n",
    ":args:\n",
    "    sentence - sentence in Ukrainian (str)\n",
    ":returns:\n",
    "    translation - sentence in Russian (str)\n",
    "\n",
    "* find ukrainian embedding for each word in sentence\n",
    "* transform ukrainian embedding vector\n",
    "* find nearest russian word and replace\n",
    "\"\"\"\n",
    "\n",
    "def translate(sentence):\n",
    "    # YOUR CODE HERE\n",
    "    words = sentence.split(\" \")\n",
    "    translation = []\n",
    "    for word in words:\n",
    "        try:\n",
    "            emb = uk_emb[word]\n",
    "            translation.append(ru_emb.most_similar([np.matmul(emb, W)], topn=1)[0][0])           \n",
    "        except:\n",
    "            translation.append(word)\n",
    "    return \" \".join(translation)"
   ]
  },
  {
   "cell_type": "code",
   "execution_count": 21,
   "metadata": {},
   "outputs": [
    {
     "name": "stdout",
     "output_type": "stream",
     "text": [
      "она красивая девка\n"
     ]
    }
   ],
   "source": [
    "print(translate(\"яка гарна дівка\"))"
   ]
  },
  {
   "cell_type": "code",
   "execution_count": 22,
   "metadata": {},
   "outputs": [
    {
     "name": "stdout",
     "output_type": "stream",
     "text": [
      "кот поймал мышку\n"
     ]
    }
   ],
   "source": [
    "print(translate(\"кіт зловив мишу\"))"
   ]
  },
  {
   "cell_type": "code",
   "execution_count": 23,
   "metadata": {},
   "outputs": [
    {
     "name": "stdout",
     "output_type": "stream",
     "text": [
      "хорошо сало со водкой , особенно со перцем\n"
     ]
    }
   ],
   "source": [
    "print(translate(\"добре сало з горілкою , особливо з перцем\"))"
   ]
  },
  {
   "cell_type": "code",
   "execution_count": 24,
   "metadata": {
    "collapsed": true
   },
   "outputs": [],
   "source": [
    "with open(\"simple_text_sample.txt\", \"r\") as inpf:\n",
    "    uk_sentences = [line.rstrip().lower() for line in inpf]    "
   ]
  },
  {
   "cell_type": "code",
   "execution_count": null,
   "metadata": {
    "collapsed": true
   },
   "outputs": [],
   "source": [
    "uk_sentences"
   ]
  },
  {
   "cell_type": "code",
   "execution_count": 25,
   "metadata": {},
   "outputs": [
    {
     "name": "stdout",
     "output_type": "stream",
     "text": [
      "src: ﻿їхав пан з кучером іваном у далеку дорогу.\n",
      "dst: ﻿їхав господин со кучером іваном во даль дорогу.\n",
      "\n",
      "src: вони їхали мовчки, але мовчанка обридла.\n",
      "dst: они ехали мовчки, конечно мовчанка обридла.\n",
      "\n",
      "src: пан і надумав поговорити.\n",
      "dst: господин и надумав поговорити.\n",
      "\n",
      "src: в цей час вискочив заєць.\n",
      "dst: во этот момент выскочил заєць.\n",
      "\n",
      "src: пан і почав свою розмову про зайця.\n",
      "dst: господин и начал свою разговор о зайця.\n",
      "\n",
      "src: — от у мене в лісі водяться зайці, тільки не такі, як оце пострибав маленький, а великі.\n",
      "dst: — из во меня во лесу водятся зайці, только не такі, как вот пострибав маленький, а великі.\n",
      "\n",
      "src: я з-за границі привіз на розплід.\n",
      "dst: мной из-за границы привез по розплід.\n",
      "\n",
      "src: одного разу я зібрався на полювання, взяв із собою чоловіка і десять загоничів.\n",
      "dst: одного раз мной собрался по полювання, взял со собой мужа и десять загоничів.\n",
      "\n",
      "src: вони нагнали на мене зайців, а я їх тільки — бах! та бах!\n",
      "dst: они нагнали по меня зайців, а мной их только — бах! и бах!\n",
      "\n",
      "src: тоді я набив їх десятки з три…\n",
      "dst: тогда мной набив их десятки со три…\n",
      "\n",
      "src: \n",
      "dst: \n",
      "\n",
      "src: а одного забив, то такого величезного, як баран завбільшки!\n",
      "dst: а одного забив, то такого величезного, как баран завбільшки!\n",
      "\n",
      "src: ну, а коли здер з нього шкуру, то було більш як півпуда сала.\n",
      "dst: ну, а когда здер со него шкуру, то было более как півпуда сала.\n",
      "\n",
      "src: от які в мене зайці! кучер слухав, слухав, а далі й каже:\n",
      "dst: из они во меня зайці! кучер слухав, слухав, а дальше и каже:\n",
      "\n",
      "src: \n",
      "dst: \n",
      "\n",
      "src: — но-о, гніді, скоро вже і міст той, що під брехунами ламається.\n",
      "dst: — но-о, гніді, скоро уже и городов той, что под брехунами ламається.\n",
      "\n",
      "src: \n",
      "dst: \n",
      "\n",
      "src: почув це пан і каже:\n",
      "dst: услышал оно господин и каже:\n",
      "\n",
      "src: — чуєш, іване, так от які зайці бувають!\n",
      "dst: — чуєш, іване, так из они зайцы бувають!\n",
      "\n",
      "src: правда, що в нього півпуда сала то не було, а так фунтів з десять.\n",
      "dst: правда, что во него півпуда сала то не було, а так фунтов со десять.\n",
      "\n",
      "src: \n",
      "dst: \n",
      "\n",
      "src: — звісно, заєць зайцем,— каже іван.\n",
      "dst: — звісно, заяц зайцем,— говорит іван.\n",
      "\n",
      "src: ну, їдуть далі, а пан знову до івана:\n",
      "dst: ну, едут далі, а господин снова к івана:\n",
      "\n",
      "src: \n",
      "dst: \n",
      "\n",
      "src: — от що, іване, а ми скоро вже буде той місток?\n",
      "dst: — из що, іване, а мы скоро уже будет тот місток?\n",
      "\n",
      "src: \n",
      "dst: \n",
      "\n",
      "src: — та скоро вже, пане,— каже іван.\n",
      "dst: — и скоро вже, пане,— говорит іван.\n",
      "\n",
      "src: \n",
      "dst: \n",
      "\n",
      "src: — так-от знаєш, іване,— продовжує пан,— мабуть, що на тому зайцеві і десяти фунтів сала не було,— так фунтів три — чотири, не більше.\n",
      "dst: — так-от знаєш, іване,— продолжает пан,— мабуть, что по потому зайцеві и десяти фунтов сала не було,— так фунтов три — чотири, не більше.\n",
      "\n",
      "src: \n",
      "dst: \n",
      "\n",
      "src: - та мені що,— каже іван,— хай буде і так.\n",
      "dst: – и мне що,— говорит іван,— пусть будет и так.\n",
      "\n",
      "src: але проїхали трохи, пан повертівся на місці та й знову:\n",
      "dst: конечно проехали трохи, господин повертівся по месте и и знову:\n",
      "\n",
      "src: \n",
      "dst: \n",
      "\n",
      "src: — а чи скоро, іване, вже той міст буде?\n",
      "dst: — а ли скоро, іване, уже тот городов буде?\n",
      "\n",
      "src: \n",
      "dst: \n",
      "\n",
      "src: — так, скоро, пане, ось-ось, тільки в долину спустимось.\n",
      "dst: — так, скоро, пане, ось-ось, только во долину спустимось.\n",
      "\n",
      "src: \n",
      "dst: \n",
      "\n",
      "src: — гм, — каже пан, — а знаєш, іване, на тому зайцеві і зовсім сала не було – сам знаєш, яке на зайцеві сало.\n",
      "dst: — гм, — говорит пан, — а знаєш, іване, по потому зайцеві и совсем сала не было – сам знаєш, которое по зайцеві сало.\n",
      "\n",
      "src: \n",
      "dst: \n",
      "\n",
      "src: — та звісно, — каже іван, — заєць зайцем.\n",
      "dst: — и звісно, — говорит іван, — заяц зайцем.\n",
      "\n",
      "src: \n",
      "dst: \n",
      "\n",
      "src: спустились в долину, а пан і питає:\n",
      "dst: спустились во долину, а господин и питає:\n",
      "\n",
      "src: \n",
      "dst: \n",
      "\n",
      "src: - а де ж, іване, той міст, що ти про нього говорив?\n",
      "dst: – а куда ж, іване, тот міст, что ты о него говорив?\n",
      "\n",
      "src: \n",
      "dst: \n",
      "\n",
      "src: - а він, пане, — каже іван, — розтопився так само, як те заяче сало, що ви про нього говорили.\n",
      "dst: – а він, пане, — говорит іван, — розтопився так само, как что заяче сало, что мы о него говорили.\n",
      "\n"
     ]
    }
   ],
   "source": [
    "for sentence in uk_sentences:\n",
    "    print(\"src: {}\\ndst: {}\\n\".format(sentence, translate(sentence)))"
   ]
  },
  {
   "cell_type": "markdown",
   "metadata": {},
   "source": [
    "Получиен весьма несовершенный перевод с пропуском многих слов, так произошло из-за ограничения размеров векторных представлений (больший объём представлений приводит к ошибкам в работе функций связанных с недостатком памяти)."
   ]
  },
  {
   "cell_type": "markdown",
   "metadata": {},
   "source": [
    "## Часть 2: Переводчик для французского и португальского языков"
   ]
  },
  {
   "cell_type": "markdown",
   "metadata": {},
   "source": [
    "Загружем векторные представления:"
   ]
  },
  {
   "cell_type": "code",
   "execution_count": 2,
   "metadata": {
    "collapsed": true
   },
   "outputs": [],
   "source": [
    "fr_emb = KeyedVectors.load_word2vec_format(\"cc.fr.300.vec\", binary = False, limit = 100000)\n",
    "pt_emb = KeyedVectors.load_word2vec_format(\"cc.pt.300.vec\", binary = False, limit = 100000)"
   ]
  },
  {
   "cell_type": "markdown",
   "metadata": {},
   "source": [
    "### Перевод с французского на португальский:"
   ]
  },
  {
   "cell_type": "code",
   "execution_count": 3,
   "metadata": {
    "collapsed": true
   },
   "outputs": [],
   "source": [
    "def load_word_pairs(filename):\n",
    "    fr_pt_pairs = []\n",
    "    fr_vectors = []\n",
    "    pt_vectors = []\n",
    "    \n",
    "    with open(filename, \"r\") as inpf:\n",
    "        for line in inpf:\n",
    "            fr, pt = line.rstrip().split(\"\\t\")\n",
    "            if fr not in fr_emb or pt not in pt_emb:\n",
    "                continue\n",
    "            fr_pt_pairs.append((fr, pt))\n",
    "            fr_vectors.append(fr_emb[fr])\n",
    "            pt_vectors.append(pt_emb[pt])\n",
    "            \n",
    "    return fr_pt_pairs, np.array(fr_vectors), np.array(pt_vectors)"
   ]
  },
  {
   "cell_type": "code",
   "execution_count": 4,
   "metadata": {
    "collapsed": true
   },
   "outputs": [],
   "source": [
    "fr_pt_train, X_train, Y_train = load_word_pairs(\"fr-pt.train.txt\")\n",
    "fr_pt_test, X_test, Y_test = load_word_pairs(\"fr-pt.test.txt\")"
   ]
  },
  {
   "cell_type": "markdown",
   "metadata": {},
   "source": [
    "Получим две матрицы преобразования M1 и M2 для первых 300 пар и следующих 300 пар соответственно:"
   ]
  },
  {
   "cell_type": "code",
   "execution_count": 5,
   "metadata": {
    "collapsed": true
   },
   "outputs": [],
   "source": [
    "\"\"\" \n",
    ":returns: W* : float matrix[emb_dim x emb_dim] as defined in formulae above\n",
    "\"\"\"\n",
    "\n",
    "def learn_transform(X, Y):\n",
    "    U, s, V = np.linalg.svd(np.matmul(X_train.T,Y_train))\n",
    "    W = np.matmul(U,V)\n",
    "    return W"
   ]
  },
  {
   "cell_type": "code",
   "execution_count": 6,
   "metadata": {
    "collapsed": true
   },
   "outputs": [],
   "source": [
    "M1 = learn_transform(X_train[:300], Y_train[:300])\n",
    "M2 = learn_transform(X_train[300:601], Y_train[300:601])"
   ]
  },
  {
   "cell_type": "markdown",
   "metadata": {},
   "source": [
    "Вычислим точность для M1 и M2 на разных наборах пар:"
   ]
  },
  {
   "cell_type": "code",
   "execution_count": 7,
   "metadata": {
    "collapsed": true
   },
   "outputs": [],
   "source": [
    "\"\"\"\n",
    ":args:\n",
    "    pairs = list of right word pairs [(uk_word_0, ru_word_0), ...]\n",
    "    mapped_vectors = list of embeddings after mapping from source embedding space to destination embedding space\n",
    "    topn = the number of nearest neighbours in destination embedding space to choose from\n",
    ":returns:\n",
    "    precision_val, float number, total number of words for those we can find right translation at top K.\n",
    "\"\"\"\n",
    "    \n",
    "def precision(pairs, mapped_vectors, topn=1):\n",
    "    assert len(pairs) == len(mapped_vectors)\n",
    "    num_matches = 0\n",
    "    for i, (_, ru) in enumerate(pairs):\n",
    "        mapped_vector = mapped_vectors[i]\n",
    "        if ru in [x for (x, _) in pt_emb.most_similar([mapped_vector], topn = topn)]:\n",
    "            num_matches += 1\n",
    "    precision_val = num_matches / len(pairs)\n",
    "    return precision_val"
   ]
  },
  {
   "cell_type": "code",
   "execution_count": 8,
   "metadata": {},
   "outputs": [
    {
     "name": "stdout",
     "output_type": "stream",
     "text": [
      "pair1 M1: 0.7166666666666667\n",
      "pair1 M2: 0.7166666666666667\n",
      "pair2 M1: 0.7541528239202658\n",
      "pair2 M2: 0.7541528239202658\n"
     ]
    }
   ],
   "source": [
    "print(\"pair1 M1: {}\".format(precision(fr_pt_train[:300], np.matmul(X_train[:300], M1))))\n",
    "print(\"pair1 M2: {}\".format(precision(fr_pt_train[:300], np.matmul(X_train[:300], M2))))\n",
    "print(\"pair2 M1: {}\".format(precision(fr_pt_train[300:601], np.matmul(X_train[300:601], M1))))\n",
    "print(\"pair2 M2: {}\".format(precision(fr_pt_train[300:601], np.matmul(X_train[300:601], M2))))"
   ]
  },
  {
   "cell_type": "markdown",
   "metadata": {},
   "source": [
    "Для пары французский - португальский языки получили точность около 73%."
   ]
  },
  {
   "cell_type": "markdown",
   "metadata": {},
   "source": [
    "Вычислим норму фробениуса для матрицы $|M1-M2|$:"
   ]
  },
  {
   "cell_type": "code",
   "execution_count": 9,
   "metadata": {},
   "outputs": [
    {
     "data": {
      "text/plain": [
       "0.0"
      ]
     },
     "execution_count": 9,
     "metadata": {},
     "output_type": "execute_result"
    }
   ],
   "source": [
    "M1_M2 = np.linalg.norm((M1-M2), ord ='fro')\n",
    "M1_M2"
   ]
  },
  {
   "cell_type": "markdown",
   "metadata": {},
   "source": [
    "Вычислим отношение фробениусовых норм $\\frac{|M1-M2|}{|M1|}$:"
   ]
  },
  {
   "cell_type": "code",
   "execution_count": 10,
   "metadata": {},
   "outputs": [
    {
     "data": {
      "text/plain": [
       "0.0"
      ]
     },
     "execution_count": 10,
     "metadata": {},
     "output_type": "execute_result"
    }
   ],
   "source": [
    "M1_M2/np.linalg.norm(M1, ord ='fro')"
   ]
  },
  {
   "cell_type": "markdown",
   "metadata": {},
   "source": [
    "Проверим ортогональность матриц:"
   ]
  },
  {
   "cell_type": "code",
   "execution_count": 11,
   "metadata": {},
   "outputs": [
    {
     "name": "stdout",
     "output_type": "stream",
     "text": [
      "[[ 1.0000001e+00  7.4505806e-09 -1.8626451e-09 ...  7.4505806e-09\n",
      "  -3.5390258e-08  3.7252903e-09]\n",
      " [ 7.4505806e-09  9.9999994e-01 -2.3283064e-08 ...  2.3283064e-09\n",
      "   2.2351742e-08  2.2351742e-08]\n",
      " [-1.8626451e-09 -2.3283064e-08  9.9999994e-01 ...  1.8160790e-08\n",
      "  -1.3969839e-09  0.0000000e+00]\n",
      " ...\n",
      " [ 7.4505806e-09  2.3283064e-09  1.8160790e-08 ...  1.0000000e+00\n",
      "   1.8626451e-09  1.5832484e-08]\n",
      " [-3.5390258e-08  2.2351742e-08 -1.3969839e-09 ...  1.8626451e-09\n",
      "   1.0000000e+00 -1.4901161e-08]\n",
      " [ 3.7252903e-09  2.2351742e-08  0.0000000e+00 ...  1.5832484e-08\n",
      "  -1.4901161e-08  9.9999994e-01]]\n"
     ]
    }
   ],
   "source": [
    "print(np.matmul(M1, M1.T))"
   ]
  },
  {
   "cell_type": "markdown",
   "metadata": {},
   "source": [
    "M1 ортогональна."
   ]
  },
  {
   "cell_type": "code",
   "execution_count": 12,
   "metadata": {},
   "outputs": [
    {
     "name": "stdout",
     "output_type": "stream",
     "text": [
      "[[ 1.0000001e+00  7.4505806e-09 -1.8626451e-09 ...  7.4505806e-09\n",
      "  -3.5390258e-08  3.7252903e-09]\n",
      " [ 7.4505806e-09  9.9999994e-01 -2.3283064e-08 ...  2.3283064e-09\n",
      "   2.2351742e-08  2.2351742e-08]\n",
      " [-1.8626451e-09 -2.3283064e-08  9.9999994e-01 ...  1.8160790e-08\n",
      "  -1.3969839e-09  0.0000000e+00]\n",
      " ...\n",
      " [ 7.4505806e-09  2.3283064e-09  1.8160790e-08 ...  1.0000000e+00\n",
      "   1.8626451e-09  1.5832484e-08]\n",
      " [-3.5390258e-08  2.2351742e-08 -1.3969839e-09 ...  1.8626451e-09\n",
      "   1.0000000e+00 -1.4901161e-08]\n",
      " [ 3.7252903e-09  2.2351742e-08  0.0000000e+00 ...  1.5832484e-08\n",
      "  -1.4901161e-08  9.9999994e-01]]\n"
     ]
    }
   ],
   "source": [
    "print(np.matmul(M2, M2.T))"
   ]
  },
  {
   "cell_type": "markdown",
   "metadata": {},
   "source": [
    "M2 ортогональна."
   ]
  },
  {
   "cell_type": "markdown",
   "metadata": {},
   "source": [
    "### Перевод с португальского на французский:"
   ]
  },
  {
   "cell_type": "code",
   "execution_count": 27,
   "metadata": {
    "collapsed": true
   },
   "outputs": [],
   "source": [
    "def load_word_pairs(filename):\n",
    "    pt_fr_pairs = []\n",
    "    fr_vectors = []\n",
    "    pt_vectors = []\n",
    "    \n",
    "    with open(filename, \"r\") as inpf:\n",
    "        for line in inpf:\n",
    "            pt, fr = line.rstrip().split(\"\\t\")\n",
    "            if pt not in pt_emb or fr not in fr_emb:\n",
    "                continue\n",
    "            pt_fr_pairs.append((pt, fr))\n",
    "            fr_vectors.append(fr_emb[fr])\n",
    "            pt_vectors.append(pt_emb[pt])\n",
    "            \n",
    "    return pt_fr_pairs, np.array(pt_vectors), np.array(fr_vectors)"
   ]
  },
  {
   "cell_type": "code",
   "execution_count": 28,
   "metadata": {
    "collapsed": true
   },
   "outputs": [],
   "source": [
    "pt_fr_train, X_train, Y_train = load_word_pairs(\"pt-fr.train.txt\")\n",
    "pt_fr_test, X_test, Y_test = load_word_pairs(\"pt-fr.test.txt\")"
   ]
  },
  {
   "cell_type": "markdown",
   "metadata": {},
   "source": [
    "Получим две матрицы преобразования M1 и M2 для первых 300 пар и следующих 300 пар соответственно:"
   ]
  },
  {
   "cell_type": "code",
   "execution_count": 29,
   "metadata": {
    "collapsed": true
   },
   "outputs": [],
   "source": [
    "M1 = learn_transform(X_train[:300], Y_train[:300])\n",
    "M2 = learn_transform(X_train[300:601], Y_train[300:601])"
   ]
  },
  {
   "cell_type": "markdown",
   "metadata": {},
   "source": [
    "Вычислим точность для M1 и M2 на разных наборах пар:"
   ]
  },
  {
   "cell_type": "code",
   "execution_count": 30,
   "metadata": {
    "collapsed": true
   },
   "outputs": [],
   "source": [
    "\"\"\"\n",
    ":args:\n",
    "    pairs = list of right word pairs [(uk_word_0, ru_word_0), ...]\n",
    "    mapped_vectors = list of embeddings after mapping from source embedding space to destination embedding space\n",
    "    topn = the number of nearest neighbours in destination embedding space to choose from\n",
    ":returns:\n",
    "    precision_val, float number, total number of words for those we can find right translation at top K.\n",
    "\"\"\"\n",
    "\n",
    "def precision(pairs, mapped_vectors, topn=1):\n",
    "    assert len(pairs) == len(mapped_vectors)\n",
    "    num_matches = 0\n",
    "    for i, (_, ru) in enumerate(pairs):\n",
    "        mapped_vector = mapped_vectors[i]\n",
    "        if ru in [x for (x, _) in fr_emb.most_similar([mapped_vector], topn=topn)]:\n",
    "            num_matches += 1\n",
    "    precision_val = num_matches / len(pairs)\n",
    "    return precision_val"
   ]
  },
  {
   "cell_type": "code",
   "execution_count": 31,
   "metadata": {},
   "outputs": [
    {
     "name": "stdout",
     "output_type": "stream",
     "text": [
      "pair1 M1: 0.63\n",
      "pair1 M2: 0.63\n",
      "pair2 M1: 0.6744186046511628\n",
      "pair2 M2: 0.6744186046511628\n"
     ]
    }
   ],
   "source": [
    "print(\"pair1 M1: {}\".format(precision(pt_fr_train[:300], np.matmul(X_train[:300], M1))))\n",
    "print(\"pair1 M2: {}\".format(precision(pt_fr_train[:300], np.matmul(X_train[:300], M2))))\n",
    "print(\"pair2 M1: {}\".format(precision(pt_fr_train[300:601], np.matmul(X_train[300:601], M1))))\n",
    "print(\"pair2 M2: {}\".format(precision(pt_fr_train[300:601], np.matmul(X_train[300:601], M2))))"
   ]
  },
  {
   "cell_type": "markdown",
   "metadata": {},
   "source": [
    "Для пары португальский - французский языки получили точность около 65%. Это меньше, чем для пары французский - португальский."
   ]
  },
  {
   "cell_type": "markdown",
   "metadata": {},
   "source": [
    "Вычислим норму фробениуса для матрицы  $|M1-M2|$:"
   ]
  },
  {
   "cell_type": "code",
   "execution_count": 32,
   "metadata": {},
   "outputs": [
    {
     "data": {
      "text/plain": [
       "0.0"
      ]
     },
     "execution_count": 32,
     "metadata": {},
     "output_type": "execute_result"
    }
   ],
   "source": [
    "M1_M2 = np.linalg.norm((M1-M2), ord = \"fro\")\n",
    "M1_M2"
   ]
  },
  {
   "cell_type": "markdown",
   "metadata": {},
   "source": [
    "Вычислим отношение фробениусовых норм $\\frac{|M1-M2|}{|M1|}$:"
   ]
  },
  {
   "cell_type": "code",
   "execution_count": 33,
   "metadata": {},
   "outputs": [
    {
     "data": {
      "text/plain": [
       "0.0"
      ]
     },
     "execution_count": 33,
     "metadata": {},
     "output_type": "execute_result"
    }
   ],
   "source": [
    "M1_M2/np.linalg.norm(M1, ord = \"fro\")"
   ]
  },
  {
   "cell_type": "markdown",
   "metadata": {},
   "source": [
    "Проверим ортогональность матриц:"
   ]
  },
  {
   "cell_type": "code",
   "execution_count": 34,
   "metadata": {},
   "outputs": [
    {
     "name": "stdout",
     "output_type": "stream",
     "text": [
      "[[ 1.0000001e+00  2.4680048e-08  3.1664968e-08 ... -3.1432137e-09\n",
      "   6.5192580e-09 -2.6077032e-08]\n",
      " [ 2.4680048e-08  1.0000000e+00 -3.7252903e-09 ...  3.7252903e-09\n",
      "   2.2351742e-08  1.0535587e-08]\n",
      " [ 3.1664968e-08 -3.7252903e-09  9.9999994e-01 ... -1.9557774e-08\n",
      "  -1.6763806e-08 -9.3132257e-10]\n",
      " ...\n",
      " [-3.1432137e-09  3.7252903e-09 -1.9557774e-08 ...  1.0000000e+00\n",
      "  -2.2817403e-08 -2.7939677e-09]\n",
      " [ 6.5192580e-09  2.2351742e-08 -1.6763806e-08 ... -2.2817403e-08\n",
      "   9.9999994e-01  1.4901161e-08]\n",
      " [-2.6077032e-08  1.0535587e-08 -9.3132257e-10 ... -2.7939677e-09\n",
      "   1.4901161e-08  9.9999988e-01]]\n"
     ]
    }
   ],
   "source": [
    "print(np.matmul(M1, M1.T))"
   ]
  },
  {
   "cell_type": "markdown",
   "metadata": {},
   "source": [
    "M1 ортогональна."
   ]
  },
  {
   "cell_type": "code",
   "execution_count": 35,
   "metadata": {},
   "outputs": [
    {
     "name": "stdout",
     "output_type": "stream",
     "text": [
      "[[ 1.0000001e+00  2.4680048e-08  3.1664968e-08 ... -3.1432137e-09\n",
      "   6.5192580e-09 -2.6077032e-08]\n",
      " [ 2.4680048e-08  1.0000000e+00 -3.7252903e-09 ...  3.7252903e-09\n",
      "   2.2351742e-08  1.0535587e-08]\n",
      " [ 3.1664968e-08 -3.7252903e-09  9.9999994e-01 ... -1.9557774e-08\n",
      "  -1.6763806e-08 -9.3132257e-10]\n",
      " ...\n",
      " [-3.1432137e-09  3.7252903e-09 -1.9557774e-08 ...  1.0000000e+00\n",
      "  -2.2817403e-08 -2.7939677e-09]\n",
      " [ 6.5192580e-09  2.2351742e-08 -1.6763806e-08 ... -2.2817403e-08\n",
      "   9.9999994e-01  1.4901161e-08]\n",
      " [-2.6077032e-08  1.0535587e-08 -9.3132257e-10 ... -2.7939677e-09\n",
      "   1.4901161e-08  9.9999988e-01]]\n"
     ]
    }
   ],
   "source": [
    "print(np.matmul(M2, M2.T))"
   ]
  },
  {
   "cell_type": "markdown",
   "metadata": {},
   "source": [
    "M2 ортогональна."
   ]
  }
 ],
 "metadata": {
  "kernelspec": {
   "display_name": "Python 3",
   "language": "python",
   "name": "python3"
  },
  "language_info": {
   "codemirror_mode": {
    "name": "ipython",
    "version": 3
   },
   "file_extension": ".py",
   "mimetype": "text/x-python",
   "name": "python",
   "nbconvert_exporter": "python",
   "pygments_lexer": "ipython3",
   "version": "3.6.2"
  }
 },
 "nbformat": 4,
 "nbformat_minor": 2
}
