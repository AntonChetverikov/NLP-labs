{
 "cells": [
  {
   "cell_type": "markdown",
   "metadata": {},
   "source": [
    "# Лабораторная работа №3 по курсу “Компьютерная лингвистика”\n",
    "\n",
    "#### Выполнил: студент группы 381703-4м Четвериков Антон\n",
    "\n",
    "## Постановка задачи\n",
    "\n",
    "\n",
    "Третья лабораторная работа направлена на практику работы с синтаксическими анализаторами. \n",
    "\n",
    "В работе предлагается провести работу по установлению влияния синтаксиса на индивидуальный авторский стиль. Выбранные Вами произведения должны быть проанализированы посредством синтаксического анализатора. После чего необходимо получить кумулятивные статистики по всему тексту и использовать их в качестве атрибутов для решения задачи кластеризации (методами K-means и иерархической кластеризацией).\n",
    "\n",
    "Для работы в принципе можно использовать любой синтаксический анализатор, который был бы Вам удобен.\n",
    "Однако, рекомендуется использовать библиотеку SpaCy. \n",
    "\n",
    "Требования к лабораторной работе:\n",
    "\n",
    "* Выберете как минимум 4-5 авторов и как минимум 3 их произведения. \n",
    "\n",
    "* Авторы должны быть русскоязычными. \n",
    "\n",
    "* Проведите искусственное увеличение набора данных - для тех произведений, которые имеют достаточно большой объем “разбейте” их на несколько частей. Это необходимо чтобы увеличить объем данных. Предполагается, что стиль автора не меняется в течении произведения.\n",
    "\n",
    "* Используя синтаксический анализатор, соберите статистику о рассматриваемом произведении. Составьте вектор атрибутов, который будет использоваться для решения задачи кластеризации. ВАЖНО: СОХРАНИТЕ ПОЛУЧИВШИЙСЯ ВЕКТОР АТРИБУТОВ!\n",
    "\n",
    "* Выполните кластеризацию методом k-Means. Выполните  метод Elbow для определения оптимального количества кластеров и анализ силуэта. Выполните кластеризацию и выведете результаты.\n",
    "\n",
    "* Насколько “чистой” получилась кластеризация? Какова “чистота” кластеризации? (Замечание: кластер чистый, если содержит в себе одних и тех же авторов - а это Вам известно).\n",
    "\n",
    "* Постройте дендрограммы иерархической кластеризации. \n",
    "\n",
    "* Проинтерпретируйте, что Вы видите в результатах кластеризации и сделайте выводы.\n",
    "\n",
    "Уточнение к пункту 3: Сделайте отдельно анализ с помощью treelets и параметров характеризующих рисунок дерева.\n",
    "Сравните получившиеся результаты.\n",
    "\n",
    "SpaCy помимо дерева зависимостей также проводит частеречной анализ (PoS-теггинг), поэтому использование частей речи может быть необходимым.\n",
    "\n",
    "treelets\n",
    "\n",
    "I Использование \n",
    "* В качестве базовых атрибутов предлагается использование т.н. treelets.\n",
    "\n",
    "II Использование параметров, характеризующих рисунок дерева \n",
    "* Количество вершин дерева (соответствует количеству слов в предложении).\n",
    "* Число уровней в дереве. Число уровней в дереве - это длина самого длинного из путей дерева.\n",
    "* Ширина ветвления корня - число вершин, подчиненных корню.\n",
    "* Максимальное количество перемен направления пути (зигзагов) в дереве. Учитывается два направления пути - левое и правое. Говорят, что путь на участке ai, ai+1 направлен налево, если вершина ai+1 расположена левее ai. Аналогично определяется правое направление.\n"
   ]
  },
  {
   "cell_type": "code",
   "execution_count": 1,
   "metadata": {},
   "outputs": [
    {
     "name": "stdout",
     "output_type": "stream",
     "text": [
      "['Вадим Панов', 'Дмитрий Глуховский', 'Кир Булычев', 'Сергей Лукьяненко', 'Сергей Снегов']\n"
     ]
    }
   ],
   "source": [
    "import os\n",
    "\n",
    "texts = {}\n",
    "\n",
    "for writer in os.listdir(r\"C:\\books\"):\n",
    "    textNames = os.listdir(r\"C:\\books\\\\\" + writer)\n",
    "    texts.update({writer: textNames})\n",
    "\n",
    "writers = list(texts.keys())\n",
    "\n",
    "print(writers)"
   ]
  },
  {
   "cell_type": "markdown",
   "metadata": {},
   "source": [
    "Выводим список произведений по авторам:"
   ]
  },
  {
   "cell_type": "code",
   "execution_count": 2,
   "metadata": {},
   "outputs": [
    {
     "name": "stdout",
     "output_type": "stream",
     "text": [
      "{'Вадим Панов': ['Занимательная механика.txt', 'Ручной привод.txt', 'Таганский перекресток.txt'], 'Дмитрий Глуховский': ['Будущее.txt', 'Метро 2033.txt', 'Метро 2035.txt'], 'Кир Булычев': ['Девочка, с которой ничего не случится.txt', 'День рождения Алисы.txt', 'Путешествие Алисы.txt', 'Сто лет тому вперед.txt'], 'Сергей Лукьяненко': ['Звёзды - холодные игрушки.txt', 'Звездная тень.txt', 'Лабиринт отражений.txt'], 'Сергей Снегов': ['Вторжение в Персей.txt', 'Галактическая разведка.txt', 'Кольцо обратного времени.txt']}\n"
     ]
    }
   ],
   "source": [
    "print(texts)"
   ]
  },
  {
   "cell_type": "markdown",
   "metadata": {},
   "source": [
    "Функция для разбиения входных текстов на части по n символов:"
   ]
  },
  {
   "cell_type": "code",
   "execution_count": 3,
   "metadata": {
    "collapsed": true
   },
   "outputs": [],
   "source": [
    "import itertools\n",
    "def grouper(n, iterable):\n",
    "    args = [iter(iterable)] * n\n",
    "    return list(\"\".join([e for e in t if e != None]) for t in itertools.zip_longest(*args))"
   ]
  },
  {
   "cell_type": "markdown",
   "metadata": {},
   "source": [
    "Загружаем тексты:"
   ]
  },
  {
   "cell_type": "code",
   "execution_count": 4,
   "metadata": {
    "collapsed": true
   },
   "outputs": [],
   "source": [
    "data = []\n",
    "for writer in writers:\n",
    "    books = []\n",
    "    for text in texts[writer]:\n",
    "        with open(r\"C:\\books\\\\\" + writer + \"\\\\\" + text) as bookFile:\n",
    "            book = bookFile.read().replace('\\n', ' ').replace('\\xa0', ' ')\n",
    "            for b in grouper(100000, book):\n",
    "                books.append(b)\n",
    "    data.append(books)"
   ]
  },
  {
   "cell_type": "markdown",
   "metadata": {},
   "source": [
    "Загрузка необходимых для работы с текстами модулей:"
   ]
  },
  {
   "cell_type": "code",
   "execution_count": 5,
   "metadata": {
    "collapsed": true
   },
   "outputs": [],
   "source": [
    "import spacy\n",
    "nlp = spacy.load(r\"C:\\Users\\anton\\spacy-ru\\ru2\")"
   ]
  },
  {
   "cell_type": "code",
   "execution_count": 6,
   "metadata": {
    "collapsed": true
   },
   "outputs": [],
   "source": [
    "from nltk.tokenize import sent_tokenize"
   ]
  },
  {
   "cell_type": "markdown",
   "metadata": {},
   "source": [
    "Разобьём по предложениям:"
   ]
  },
  {
   "cell_type": "code",
   "execution_count": 7,
   "metadata": {
    "collapsed": true
   },
   "outputs": [],
   "source": [
    "sent_tokenize_list = sent_tokenize(data[0][0])"
   ]
  },
  {
   "cell_type": "markdown",
   "metadata": {},
   "source": [
    "Посмотрим на результат разделения по предложениям:"
   ]
  },
  {
   "cell_type": "code",
   "execution_count": 8,
   "metadata": {},
   "outputs": [
    {
     "name": "stdout",
     "output_type": "stream",
     "text": [
      "#0: Занимательная механика  Кто-то называл ее Богиней, кто-то – Золотой Бабой, но все жаждали встречи с ней, стремясь прикоснуться к Тайне.\n",
      "#1:В непроходимых таежных дебрях ее искали посланцы Ивана Грозного, белые атаманы и красные комиссары, агенты спецслужб и тысячи безвестных охотников за удачей.\n",
      "#2:Многие века пропадали без вести авантюристы, осмелившиеся прикоснуться к тайне золотого изваяния Великой Матери, но она открывалась лишь тем, кого выбирала сама.\n",
      "#3:А в начале Третьего тысячелетия случилось то, что ранее казалось невозможным – Золотая Женщина покинула свое древнее убежище и очутилась в одном из самых циничных и совсем не волшебных городов мира – в Москве… И все это было только завязкой удивительной истории, в которой причудливо переплелись судьбы множества людей – от сыщиков экстра-класса до простых олигархов, приоткрылись многие тайны далекого и близкого прошлого, а главное, оказалось, что волшебниками не рождаются, ими становятся.\n",
      "#4:Вернее, не волшебниками – Искусниками.\n",
      "#5:Впрочем, обо всем по порядку…    «Механика – математика, приложенная к законам равновесия и движения тел; наука о силе и сопротивлении ей; искусство применять силу к делу и строить машины; наука выгодного приспособления сил».\n",
      "#6:В. И. Даль «Толковый словарь живого великорусского языка»    ПРОЛОГ Сибирь, 1988 год   – Нет!\n",
      "#7:Пожалуйста, не надо!!\n",
      "#8:Не-е-ет!!!\n",
      "#9:Пронзительный вопль перешел в истошный, полный животного ужаса визг.\n",
      "#10:Не в заставляющий инстинктивно сопереживать крик боли – боль еще не пришла.\n",
      "#11:Не в вызывающий уважение вой яростного бессилия, не в рев полного сил бойца, терпящего поражение от более искусного соперника.\n",
      "#12:А в жалкий визг насмерть перепуганной курицы, увидевшей нож повара.\n",
      "#13:В презренный звук, оставляющий на душе лишь след досады и брезгливости.\n",
      "#14:Визг отразился от темной громады скал, бросился в тайгу, увяз в ветвях спящих деревьев и растворился в них, исчез, потревожив только малюсенькую часть бесконечно огромного леса.\n",
      "#15:– Семен, не надо!\n",
      "#16:Прошу-у-у…!!\n",
      "#17:И захлебнулся.\n",
      "#18:Визг превратился в невнятное бульканье, в хрип, в шорох осевшего на землю тела, в едва слышный шелест вошедшего в землю и вынырнувшего из нее очищенным ножа, в тихий выдох стоявших вокруг мужчин.\n",
      "#19:В запах крови.\n",
      "#20:Затем все стихло, и несколько мгновений на поляне царила полнейшая тишина.\n",
      "#21:Живые не шевелились, не переговаривались, продолжали стоять смутными тенями, и лишь когда неподалеку прозвучал бубен, все они, и убийца, и свидетели, повернули на звук головы.\n",
      "#22:Словно пришли в себя.\n",
      "#23:– Здесь?\n",
      "#24:– спросил Семен, пристально глядя на Григория.\n",
      "#25:– Здесь, – коротко подтвердил тот.\n",
      "#26:– Точно здесь?\n",
      "#27:– Точно.\n",
      "#28:Была мысль ответить вызывающе, бросить с законной обидой: «Раз привел, значит, здесь», но Григорий сдержался.\n",
      "#29:Не положено семнадцатилетнему юнцу хамить матерому охотнику.\n",
      "#30:Тем более что Семен только с виду невзрачен: плешив и узкоплеч, в тайге он настоящий вожак, и те восемь мужиков, которых он с собой взял, слушаются его беспрекословно.\n",
      "#31:Почувствуют, что малец на авторитет покусился, разборки не избежать.\n",
      "#32:В тайге свои законы.\n",
      "#33:– Здесь, – еще раз произнес Григорий.\n",
      "#34:– Я не чувствую, – помолчав, протянул охотник.\n",
      "#35:– Потому и спросил.\n",
      "#36:Словно извинился за проявленное недоверие.\n",
      "#37:Юноша кивнул, подумал, затем, облизнув губы, добавил:   – Мы пришли куда надо.\n",
      "#38:Что он еще мог сказать?\n",
      "#39:– Но я ее не чувствую.\n",
      "#40:Григорий понял, что имеет в виду собеседник – приближение Юмалы невозможно не заметить.\n",
      "#41:Тот, кто хоть раз стоял перед Богиней, навсегда запоминает свои ощущения и способен уловить ее приближение.\n",
      "#42:– Ты ее видел?\n",
      "#43:– Восемь лет назад, – ответил Семен, не сводя глаз с Григория.\n",
      "#44:– И еще пять лет назад.\n",
      "#45:Но я все помню.\n",
      "#46:Помню, как шла она к нам.\n",
      "#47:Сейчас Юмала далеко.\n",
      "#48:– Пока далеко, – уточнил юноша.\n",
      "#49:– Шаманы стали осмотрительнее.\n"
     ]
    }
   ],
   "source": [
    "for sent_index, sent in enumerate(sent_tokenize_list[:50]):\n",
    "    print(\"#{}:{}\".format(sent_index, sent))"
   ]
  },
  {
   "cell_type": "markdown",
   "metadata": {},
   "source": [
    "Напишем функцию, которая парсит по одному предложению и выводит некоторую информацию:"
   ]
  },
  {
   "cell_type": "code",
   "execution_count": 9,
   "metadata": {
    "collapsed": true
   },
   "outputs": [],
   "source": [
    "def parse_one_sentence(one_sentence):\n",
    "    doc = nlp(one_sentence)\n",
    "    for token in doc:\n",
    "        print('{} \\ {} \\ {} \\ {} \\ {} \\ {}'.format(\n",
    "            token.text, \n",
    "            token.lemma_,\n",
    "            token.pos_, \n",
    "            token.tag_, \n",
    "            token.dep_, \n",
    "            token.head.text\n",
    "        ))"
   ]
  },
  {
   "cell_type": "markdown",
   "metadata": {},
   "source": [
    "Теперь проведем анализ для каждого из предложений:"
   ]
  },
  {
   "cell_type": "code",
   "execution_count": 10,
   "metadata": {},
   "outputs": [
    {
     "name": "stdout",
     "output_type": "stream",
     "text": [
      "Sentence #0\t Занимательная механика  Кто-то называл ее Богиней, кто-то – Золотой Бабой, но все жаждали встречи с ней, стремясь прикоснуться к Тайне.\n",
      "  \\   \\ SPACE \\  \\  \\ Занимательная\n",
      "Занимательная \\ занимательный \\ ADJ \\ ADJ__Case=Nom|Degree=Pos|Gender=Fem|Number=Sing \\ amod \\ механика\n",
      "механика \\ механика \\ NOUN \\ NOUN__Animacy=Anim|Case=Nom|Gender=Fem|Number=Sing \\ nsubj \\ называл\n",
      "  \\   \\ SPACE \\  \\  \\ механика\n",
      "Кто \\ кто \\ PRON \\ PRON__Case=Nom \\ appos \\ механика\n",
      "- \\ - \\ PUNCT \\ PUNCT___ \\ punct \\ то\n",
      "то \\ то \\ PART \\ PART___ \\ discourse \\ Кто\n",
      "называл \\ называть \\ VERB \\ VERB__Aspect=Imp|Gender=Masc|Mood=Ind|Number=Sing|Tense=Past|VerbForm=Fin|Voice=Act \\ ROOT \\ называл\n",
      "ее \\ она \\ PRON \\ PRON__Case=Acc|Gender=Fem|Number=Sing|Person=3 \\ det \\ Богиней\n",
      "Богиней \\ богиней \\ ADJ \\ ADJ__Case=Dat|Degree=Pos|Gender=Fem|Number=Sing \\ obl \\ называл\n",
      ", \\ , \\ PUNCT \\ PUNCT___ \\ punct \\ кто\n",
      "кто \\ кто \\ PRON \\ PRON__Case=Nom \\ conj \\ называл\n",
      "- \\ - \\ PUNCT \\ PUNCT___ \\ punct \\ то\n",
      "то \\ то \\ PART \\ PART___ \\ discourse \\ кто\n",
      "– \\ – \\ PUNCT \\ PUNCT___ \\ appos \\ кто\n",
      "Золотой \\ золотой \\ ADJ \\ ADJ__Case=Nom|Degree=Pos|Gender=Masc|Number=Sing \\ amod \\ Бабой\n",
      "Бабой \\ баба \\ PROPN \\ PROPN__Animacy=Anim|Case=Ins|Gender=Fem|Number=Sing \\ orphan \\ кто\n",
      ", \\ , \\ PUNCT \\ PUNCT___ \\ punct \\ жаждали\n",
      "но \\ но \\ CCONJ \\ CCONJ___ \\ cc \\ жаждали\n",
      "все \\ весь \\ DET \\ DET__Case=Nom|Number=Plur \\ nsubj \\ жаждали\n",
      "жаждали \\ жаждать \\ VERB \\ VERB__Aspect=Imp|Mood=Ind|Number=Plur|Tense=Past|VerbForm=Fin|Voice=Act \\ conj \\ называл\n",
      "встречи \\ встреча \\ NOUN \\ NOUN__Animacy=Inan|Case=Acc|Gender=Fem|Number=Plur \\ obj \\ жаждали\n",
      "с \\ с \\ ADP \\ ADP___ \\ case \\ ней\n",
      "ней \\ она \\ PRON \\ PRON__Case=Ins|Gender=Fem|Number=Sing|Person=3 \\ nmod \\ встречи\n",
      ", \\ , \\ PUNCT \\ PUNCT___ \\ punct \\ стремясь\n",
      "стремясь \\ стремиться \\ VERB \\ VERB__Aspect=Imp|Tense=Pres|VerbForm=Conv|Voice=Mid \\ advcl \\ жаждали\n",
      "прикоснуться \\ прикоснуться \\ VERB \\ VERB__Aspect=Perf|VerbForm=Inf|Voice=Mid \\ xcomp \\ стремясь\n",
      "к \\ к \\ ADP \\ ADP___ \\ case \\ Тайне\n",
      "Тайне \\ тайна \\ NOUN \\ NOUN__Animacy=Inan|Case=Dat|Gender=Fem|Number=Sing \\ obl \\ прикоснуться\n",
      ". \\ . \\ PUNCT \\ PUNCT___ \\ punct \\ стремясь\n",
      "\n",
      "\n",
      "\n",
      "Sentence #1\tВ непроходимых таежных дебрях ее искали посланцы Ивана Грозного, белые атаманы и красные комиссары, агенты спецслужб и тысячи безвестных охотников за удачей.\n",
      "В \\ в \\ ADP \\ ADP___ \\ case \\ дебрях\n",
      "непроходимых \\ непроходимый \\ ADJ \\ ADJ__Case=Loc|Degree=Pos|Number=Plur \\ amod \\ дебрях\n",
      "таежных \\ таёжный \\ ADJ \\ ADJ__Case=Loc|Degree=Pos|Number=Plur \\ amod \\ дебрях\n",
      "дебрях \\ дебрях \\ NOUN \\ NOUN__Animacy=Inan|Case=Loc|Gender=Fem|Number=Plur \\ obl \\ искали\n",
      "ее \\ она \\ PRON \\ PRON__Case=Acc|Gender=Fem|Number=Sing|Person=3 \\ obj \\ искали\n",
      "искали \\ искать \\ VERB \\ VERB__Aspect=Imp|Mood=Ind|Number=Plur|Tense=Past|VerbForm=Fin|Voice=Act \\ ROOT \\ искали\n",
      "посланцы \\ посланец \\ NOUN \\ NOUN__Animacy=Anim|Case=Nom|Gender=Masc|Number=Plur \\ nsubj \\ искали\n",
      "Ивана \\ иван \\ PROPN \\ PROPN__Animacy=Anim|Case=Acc|Gender=Masc|Number=Sing \\ nmod \\ посланцы\n",
      "Грозного \\ грозный \\ ADJ \\ ADJ__Animacy=Anim|Case=Acc|Degree=Pos|Gender=Masc|Number=Sing \\ flat:name \\ Ивана\n",
      ", \\ , \\ PUNCT \\ PUNCT___ \\ punct \\ атаманы\n",
      "белые \\ белый \\ ADJ \\ ADJ__Animacy=Inan|Case=Acc|Degree=Pos|Number=Plur \\ amod \\ атаманы\n",
      "атаманы \\ атаман \\ NOUN \\ NOUN__Animacy=Anim|Case=Nom|Gender=Masc|Number=Plur \\ conj \\ посланцы\n",
      "и \\ и \\ CCONJ \\ CCONJ___ \\ cc \\ комиссары\n",
      "красные \\ красный \\ ADJ \\ ADJ__Case=Nom|Degree=Pos|Number=Plur \\ amod \\ комиссары\n",
      "комиссары \\ комиссары \\ NOUN \\ NOUN__Animacy=Inan|Case=Acc|Gender=Fem|Number=Plur \\ conj \\ посланцы\n",
      ", \\ , \\ PUNCT \\ PUNCT___ \\ punct \\ агенты\n",
      "агенты \\ агент \\ NOUN \\ NOUN__Animacy=Anim|Case=Nom|Gender=Masc|Number=Plur \\ conj \\ посланцы\n",
      "спецслужб \\ спецслужба \\ NOUN \\ NOUN__Animacy=Inan|Case=Gen|Gender=Fem|Number=Plur \\ nmod \\ агенты\n",
      "и \\ и \\ CCONJ \\ CCONJ___ \\ cc \\ тысячи\n",
      "тысячи \\ тысяча \\ NOUN \\ NOUN__Animacy=Inan|Case=Gen|Gender=Fem|Number=Sing \\ conj \\ посланцы\n",
      "безвестных \\ безвестный \\ ADJ \\ ADJ__Case=Gen|Degree=Pos|Number=Plur \\ amod \\ охотников\n",
      "охотников \\ охотник \\ NOUN \\ NOUN__Animacy=Anim|Case=Gen|Gender=Masc|Number=Plur \\ nmod \\ тысячи\n",
      "за \\ за \\ ADP \\ ADP___ \\ case \\ удачей\n",
      "удачей \\ удача \\ NOUN \\ NOUN__Animacy=Inan|Case=Ins|Gender=Fem|Number=Sing \\ nmod \\ охотников\n",
      ". \\ . \\ PUNCT \\ PUNCT___ \\ punct \\ тысячи\n",
      "\n",
      "\n",
      "\n",
      "Sentence #2\tМногие века пропадали без вести авантюристы, осмелившиеся прикоснуться к тайне золотого изваяния Великой Матери, но она открывалась лишь тем, кого выбирала сама.\n",
      "Многие \\ многие \\ NUM \\ NUM___ \\ amod \\ века\n",
      "века \\ век \\ NOUN \\ NOUN__Animacy=Inan|Case=Acc|Gender=Masc|Number=Plur \\ nsubj \\ пропадали\n",
      "пропадали \\ пропадать \\ VERB \\ VERB__Aspect=Imp|Mood=Ind|Number=Plur|Tense=Past|VerbForm=Fin|Voice=Act \\ ROOT \\ пропадали\n",
      "без \\ без \\ ADP \\ ADP___ \\ case \\ вести\n",
      "вести \\ весть \\ NOUN \\ NOUN__Animacy=Inan|Case=Gen|Gender=Fem|Number=Sing \\ obl \\ пропадали\n",
      "авантюристы \\ авантюристы \\ NOUN \\ NOUN__Animacy=Inan|Case=Acc|Gender=Masc|Number=Plur \\ nsubj \\ пропадали\n",
      ", \\ , \\ PUNCT \\ PUNCT___ \\ punct \\ осмелившиеся\n",
      "осмелившиеся \\ осмелившиеся \\ VERB \\ VERB__Aspect=Imp|Case=Nom|Number=Plur|Tense=Past|VerbForm=Part|Voice=Mid \\ acl \\ авантюристы\n",
      "прикоснуться \\ прикоснуться \\ VERB \\ VERB__Aspect=Perf|VerbForm=Inf|Voice=Mid \\ xcomp \\ осмелившиеся\n",
      "к \\ к \\ ADP \\ ADP___ \\ case \\ тайне\n",
      "тайне \\ тайна \\ NOUN \\ NOUN__Animacy=Inan|Case=Dat|Gender=Fem|Number=Sing \\ obl \\ прикоснуться\n",
      "золотого \\ золотой \\ ADJ \\ ADJ__Case=Gen|Degree=Pos|Gender=Neut|Number=Sing \\ amod \\ изваяния\n",
      "изваяния \\ изваяние \\ NOUN \\ NOUN__Animacy=Inan|Case=Gen|Gender=Neut|Number=Sing \\ nmod \\ тайне\n",
      "Великой \\ великий \\ ADJ \\ ADJ__Case=Dat|Degree=Pos|Gender=Fem|Number=Sing \\ amod \\ Матери\n",
      "Матери \\ матерь \\ NOUN \\ NOUN__Animacy=Anim|Case=Gen|Gender=Fem|Number=Sing \\ nmod \\ изваяния\n",
      ", \\ , \\ PUNCT \\ PUNCT___ \\ punct \\ открывалась\n",
      "но \\ но \\ CCONJ \\ CCONJ___ \\ cc \\ открывалась\n",
      "она \\ она \\ PRON \\ PRON__Case=Nom|Gender=Fem|Number=Sing|Person=3 \\ nsubj \\ открывалась\n",
      "открывалась \\ открываться \\ VERB \\ VERB__Aspect=Imp|Gender=Fem|Mood=Ind|Number=Sing|Tense=Past|VerbForm=Fin|Voice=Mid \\ conj \\ пропадали\n",
      "лишь \\ лишь \\ PART \\ PART___ \\ advmod \\ тем\n",
      "тем \\ тем \\ PRON \\ PRON__Animacy=Inan|Case=Ins|Gender=Neut|Number=Sing \\ obl \\ открывалась\n",
      ", \\ , \\ PUNCT \\ PUNCT___ \\ punct \\ выбирала\n",
      "кого \\ кто \\ PRON \\ PRON__Case=Acc \\ obj \\ выбирала\n",
      "выбирала \\ выбирать \\ VERB \\ VERB__Aspect=Imp|Gender=Fem|Mood=Ind|Number=Sing|Tense=Past|VerbForm=Fin|Voice=Act \\ acl:relcl \\ тем\n",
      "сама \\ сама \\ ADJ \\ ADJ__Case=Nom|Degree=Pos|Gender=Fem|Number=Sing \\ nsubj \\ выбирала\n",
      ". \\ . \\ PUNCT \\ PUNCT___ \\ punct \\ выбирала\n",
      "\n",
      "\n",
      "\n",
      "Sentence #3\tА в начале Третьего тысячелетия случилось то, что ранее казалось невозможным – Золотая Женщина покинула свое древнее убежище и очутилась в одном из самых циничных и совсем не волшебных городов мира – в Москве… И все это было только завязкой удивительной истории, в которой причудливо переплелись судьбы множества людей – от сыщиков экстра-класса до простых олигархов, приоткрылись многие тайны далекого и близкого прошлого, а главное, оказалось, что волшебниками не рождаются, ими становятся.\n",
      "А \\ а \\ CCONJ \\ CCONJ___ \\ cc \\ случилось\n",
      "в \\ в \\ ADP \\ ADP___ \\ case \\ начале\n",
      "начале \\ начало \\ NOUN \\ NOUN__Animacy=Inan|Case=Loc|Gender=Neut|Number=Sing \\ obl \\ случилось\n",
      "Третьего \\ три \\ ADJ \\ ADJ__Case=Gen|Degree=Pos|Gender=Masc|Number=Sing \\ amod \\ тысячелетия\n",
      "тысячелетия \\ тысячелетие \\ NOUN \\ NOUN__Animacy=Inan|Case=Gen|Gender=Neut|Number=Sing \\ nmod \\ начале\n",
      "случилось \\ случиться \\ VERB \\ VERB__Aspect=Perf|Gender=Neut|Mood=Ind|Number=Sing|Tense=Past|VerbForm=Fin|Voice=Mid \\ ROOT \\ случилось\n",
      "то \\ то \\ PRON \\ PRON__Animacy=Inan|Case=Nom|Gender=Neut|Number=Sing \\ nsubj \\ случилось\n",
      ", \\ , \\ PUNCT \\ PUNCT___ \\ punct \\ казалось\n",
      "что \\ что \\ PRON \\ PRON__Case=Nom \\ nsubj \\ казалось\n",
      "ранее \\ ранее \\ ADV \\ ADV__Degree=Pos \\ advmod \\ казалось\n",
      "казалось \\ казаться \\ VERB \\ VERB__Aspect=Imp|Gender=Neut|Mood=Ind|Number=Sing|Tense=Past|VerbForm=Fin|Voice=Mid \\ acl \\ то\n",
      "невозможным \\ невозможный \\ ADJ \\ ADJ__Case=Ins|Degree=Pos|Gender=Masc|Number=Sing \\ obl \\ казалось\n",
      "– \\ – \\ PUNCT \\ PUNCT___ \\ nsubj \\ покинула\n",
      "Золотая \\ золотой \\ ADJ \\ ADJ__Case=Nom|Degree=Pos|Gender=Fem|Number=Sing \\ amod \\ Женщина\n"
     ]
    },
    {
     "name": "stdout",
     "output_type": "stream",
     "text": [
      "Женщина \\ женщина \\ NOUN \\ NOUN__Animacy=Anim|Case=Nom|Gender=Fem|Number=Sing \\ appos \\ –\n",
      "покинула \\ покинуть \\ VERB \\ VERB__Aspect=Perf|Gender=Fem|Mood=Ind|Number=Sing|Tense=Past|VerbForm=Fin|Voice=Act \\ conj \\ случилось\n",
      "свое \\ свой \\ DET \\ DET__Case=Acc|Gender=Neut|Number=Sing \\ det \\ убежище\n",
      "древнее \\ древний \\ ADJ \\ ADJ__Case=Acc|Degree=Pos|Gender=Neut|Number=Sing \\ amod \\ убежище\n",
      "убежище \\ убежище \\ NOUN \\ NOUN__Animacy=Inan|Case=Acc|Gender=Neut|Number=Sing \\ obj \\ покинула\n",
      "и \\ и \\ CCONJ \\ CCONJ___ \\ cc \\ очутилась\n",
      "очутилась \\ очутилась \\ VERB \\ VERB__Aspect=Imp|Gender=Fem|Mood=Ind|Number=Sing|Tense=Past|VerbForm=Fin|Voice=Mid \\ conj \\ случилось\n",
      "в \\ в \\ ADP \\ ADP___ \\ case \\ одном\n",
      "одном \\ одном \\ NUM \\ NUM__Case=Loc|Gender=Masc \\ nummod \\ очутилась\n",
      "из \\ из \\ ADP \\ ADP___ \\ case \\ циничных\n",
      "самых \\ самых \\ ADJ \\ ADJ__Case=Gen|Degree=Pos|Number=Plur \\ amod \\ циничных\n",
      "циничных \\ циничный \\ ADJ \\ ADJ__Case=Gen|Degree=Pos|Number=Plur \\ amod \\ городов\n",
      "и \\ и \\ CCONJ \\ CCONJ___ \\ cc \\ волшебных\n",
      "совсем \\ совсем \\ ADV \\ ADV__Degree=Pos \\ advmod \\ не\n",
      "не \\ не \\ PART \\ PART___ \\ advmod \\ волшебных\n",
      "волшебных \\ волшебный \\ ADJ \\ ADJ__Case=Gen|Degree=Pos|Number=Plur \\ conj \\ циничных\n",
      "городов \\ город \\ NOUN \\ NOUN__Animacy=Inan|Case=Gen|Gender=Masc|Number=Plur \\ nmod \\ одном\n",
      "мира \\ мир \\ NOUN \\ NOUN__Animacy=Inan|Case=Gen|Gender=Masc|Number=Sing \\ nmod \\ городов\n",
      "– \\ – \\ PUNCT \\ PUNCT___ \\ appos \\ городов\n",
      "в \\ в \\ ADP \\ ADP___ \\ case \\ Москве\n",
      "Москве \\ москва \\ NOUN \\ NOUN__Animacy=Inan|Case=Loc|Gender=Fem|Number=Sing \\ obl \\ очутилась\n",
      "… \\ … \\ PUNCT \\ PUNCT___ \\ punct \\ истории\n",
      "И \\ и \\ CCONJ \\ CCONJ___ \\ cc \\ истории\n",
      "все \\ весь \\ DET \\ DET__Case=Nom|Gender=Neut|Number=Sing \\ det \\ это\n",
      "это \\ это \\ PRON \\ PRON__Animacy=Inan|Case=Nom|Gender=Neut|Number=Sing \\ nsubj \\ истории\n",
      "было \\ было \\ AUX \\ AUX__Aspect=Imp|Gender=Neut|Mood=Ind|Number=Sing|Tense=Past|VerbForm=Fin|Voice=Act \\ cop \\ истории\n",
      "только \\ только \\ PART \\ PART___ \\ advmod \\ завязкой\n",
      "завязкой \\ завязкой \\ ADJ \\ ADJ__Case=Gen|Degree=Pos|Gender=Fem|Number=Sing \\ amod \\ истории\n",
      "удивительной \\ удивительный \\ ADJ \\ ADJ__Case=Gen|Degree=Pos|Gender=Fem|Number=Sing \\ amod \\ истории\n",
      "истории \\ история \\ NOUN \\ NOUN__Animacy=Inan|Case=Gen|Gender=Fem|Number=Sing \\ conj \\ случилось\n",
      ", \\ , \\ PUNCT \\ PUNCT___ \\ punct \\ переплелись\n",
      "в \\ в \\ ADP \\ ADP___ \\ case \\ которой\n",
      "которой \\ которой \\ PRON \\ PRON__Case=Ins \\ obl \\ переплелись\n",
      "причудливо \\ причудливо \\ ADV \\ ADV__Degree=Pos \\ advmod \\ переплелись\n",
      "переплелись \\ переплестись \\ VERB \\ VERB__Aspect=Perf|Mood=Ind|Number=Plur|Tense=Past|VerbForm=Fin|Voice=Mid \\ acl:relcl \\ истории\n",
      "судьбы \\ судьба \\ NOUN \\ NOUN__Animacy=Inan|Case=Gen|Gender=Fem|Number=Sing \\ nsubj \\ переплелись\n",
      "множества \\ множество \\ NOUN \\ NOUN__Animacy=Inan|Case=Gen|Gender=Neut|Number=Sing \\ nmod \\ судьбы\n",
      "людей \\ человек \\ NOUN \\ NOUN__Animacy=Anim|Case=Gen|Gender=Masc|Number=Plur \\ nmod \\ множества\n",
      "– \\ – \\ PUNCT \\ PUNCT___ \\ appos \\ множества\n",
      "от \\ от \\ ADP \\ ADP___ \\ case \\ сыщиков\n",
      "сыщиков \\ сыщик \\ NOUN \\ NOUN__Animacy=Inan|Case=Gen|Gender=Masc|Number=Plur \\ nmod \\ судьбы\n",
      "экстра \\ экстра \\ NOUN \\ NOUN__Animacy=Inan|Case=Gen|Gender=Masc|Number=Sing \\ nmod \\ сыщиков\n",
      "- \\ - \\ PUNCT \\ PUNCT___ \\ punct \\ класса\n",
      "класса \\ класс \\ NOUN \\ NOUN__Animacy=Inan|Case=Gen|Gender=Masc|Number=Sing \\ appos \\ экстра\n",
      "до \\ до \\ ADP \\ ADP___ \\ case \\ олигархов\n",
      "простых \\ простой \\ ADJ \\ ADJ__Case=Gen|Degree=Pos|Number=Plur \\ amod \\ олигархов\n",
      "олигархов \\ олигарх \\ NOUN \\ NOUN__Animacy=Anim|Case=Acc|Gender=Masc|Number=Plur \\ nmod \\ сыщиков\n",
      ", \\ , \\ PUNCT \\ PUNCT___ \\ punct \\ олигархов\n",
      "приоткрылись \\ приоткрылись \\ VERB \\ VERB__Aspect=Imp|Mood=Ind|Number=Plur|Tense=Past|VerbForm=Fin|Voice=Pass \\ conj \\ переплелись\n",
      "многие \\ многие \\ NUM \\ NUM___ \\ amod \\ тайны\n",
      "тайны \\ тайна \\ NOUN \\ NOUN__Animacy=Inan|Case=Acc|Gender=Fem|Number=Plur \\ nsubj \\ приоткрылись\n",
      "далекого \\ далёкий \\ ADJ \\ ADJ__Case=Gen|Degree=Pos|Gender=Masc|Number=Sing \\ amod \\ прошлого\n",
      "и \\ и \\ CCONJ \\ CCONJ___ \\ cc \\ близкого\n",
      "близкого \\ близкий \\ ADJ \\ ADJ__Case=Gen|Degree=Pos|Gender=Masc|Number=Sing \\ conj \\ далекого\n",
      "прошлого \\ прошлое \\ NOUN \\ NOUN__Animacy=Anim|Case=Gen|Gender=Neut|Number=Sing \\ nmod \\ тайны\n",
      ", \\ , \\ PUNCT \\ PUNCT___ \\ punct \\ а\n",
      "а \\ а \\ CCONJ \\ CCONJ___ \\ cc \\ оказалось\n",
      "главное \\ главное \\ NOUN \\ NOUN__Animacy=Inan|Case=Nom|Gender=Neut|Number=Sing \\ parataxis \\ оказалось\n",
      ", \\ , \\ PUNCT \\ PUNCT___ \\ punct \\ оказалось\n",
      "оказалось \\ оказаться \\ VERB \\ VERB__Aspect=Perf|Gender=Neut|Mood=Ind|Number=Sing|Tense=Past|VerbForm=Fin|Voice=Mid \\ conj \\ переплелись\n",
      ", \\ , \\ PUNCT \\ PUNCT___ \\ punct \\ рождаются\n",
      "что \\ что \\ SCONJ \\ SCONJ___ \\ mark \\ рождаются\n",
      "волшебниками \\ волшебник \\ NOUN \\ NOUN__Animacy=Anim|Case=Ins|Gender=Masc|Number=Plur \\ obl \\ рождаются\n",
      "не \\ не \\ PART \\ PART___ \\ advmod \\ рождаются\n",
      "рождаются \\ рождаться \\ VERB \\ VERB__Aspect=Imp|Mood=Ind|Number=Plur|Person=3|Tense=Pres|VerbForm=Fin|Voice=Mid \\ ccomp \\ оказалось\n",
      ", \\ , \\ PUNCT \\ PUNCT___ \\ punct \\ становятся\n",
      "ими \\ они \\ PRON \\ PRON__Case=Ins|Number=Plur|Person=3 \\ obl \\ становятся\n",
      "становятся \\ становиться \\ VERB \\ VERB__Aspect=Imp|Mood=Ind|Number=Plur|Person=3|Tense=Pres|VerbForm=Fin|Voice=Mid \\ conj \\ рождаются\n",
      ". \\ . \\ PUNCT \\ PUNCT___ \\ punct \\ становятся\n",
      "\n",
      "\n",
      "\n",
      "Sentence #4\tВернее, не волшебниками – Искусниками.\n",
      "Вернее \\ вернее \\ ADV \\ ADV__Degree=Cmp \\ parataxis \\ волшебниками\n",
      ", \\ , \\ PUNCT \\ PUNCT___ \\ punct \\ Вернее\n",
      "не \\ не \\ PART \\ PART___ \\ advmod \\ волшебниками\n",
      "волшебниками \\ волшебник \\ NOUN \\ NOUN__Animacy=Inan|Case=Ins|Gender=Masc|Number=Plur \\ ROOT \\ волшебниками\n",
      "– \\ – \\ PUNCT \\ PUNCT___ \\ nmod \\ волшебниками\n",
      "Искусниками \\ искусниками \\ PROPN \\ PROPN__Animacy=Inan|Case=Nom|Gender=Neut|Number=Sing \\ flat:name \\ –\n",
      ". \\ . \\ PUNCT \\ PUNCT___ \\ punct \\ волшебниками\n",
      "\n",
      "\n",
      "\n"
     ]
    }
   ],
   "source": [
    "for sent_index, sent in enumerate(sent_tokenize_list[:5]):\n",
    "    print(\"Sentence #{}\\t{}\".format(sent_index,sent))\n",
    "    parse_one_sentence(sent)\n",
    "    print('\\n\\n')"
   ]
  },
  {
   "cell_type": "markdown",
   "metadata": {},
   "source": [
    "Используем одно из предложений:"
   ]
  },
  {
   "cell_type": "code",
   "execution_count": 11,
   "metadata": {},
   "outputs": [
    {
     "data": {
      "text/plain": [
       "'Уезжали политики и бизнесмены, клерки и работяги, домохозяйки и мелкие лавочники, все, кто мог себе это позволить.'"
      ]
     },
     "execution_count": 11,
     "metadata": {},
     "output_type": "execute_result"
    }
   ],
   "source": [
    "sent_tokenize_list[353]"
   ]
  },
  {
   "cell_type": "markdown",
   "metadata": {},
   "source": [
    "Выводим семантическое дерево:"
   ]
  },
  {
   "cell_type": "code",
   "execution_count": 12,
   "metadata": {},
   "outputs": [
    {
     "name": "stdout",
     "output_type": "stream",
     "text": [
      "                                                     Уезжали                                    \n",
      "                                                        |                                        \n",
      "                                                     политики                                   \n",
      "     ___________________________________________________|______________                          \n",
      "    |        |       |          |              |                      все                       \n",
      "    |        |       |          |              |                _______|___                      \n",
      "    |        |       |          |              |               |          мог                   \n",
      "    |        |       |          |              |               |    _______|___________          \n",
      "бизнесмены клерки работяги домохозяйки     лавочники           |   |   |   |       позволить    \n",
      "    |        |       |          |        ______|________       |   |   |   |    _______|______   \n",
      "    и        ,       и          ,       и             мелкие   ,   ,  кто  .  себе           это\n",
      "\n"
     ]
    }
   ],
   "source": [
    "doc = nlp(sent_tokenize_list[353])\n",
    "\n",
    "from nltk import Tree\n",
    "\n",
    "def to_nltk_tree(node):\n",
    "    if node.n_lefts + node.n_rights > 0:\n",
    "        return Tree(node.orth_, [to_nltk_tree(child) for child in node.children])\n",
    "    else:\n",
    "        return node.orth_\n",
    "\n",
    "to_nltk_tree(list(doc.sents)[0].root).pretty_print()"
   ]
  },
  {
   "cell_type": "markdown",
   "metadata": {},
   "source": [
    "Функция для получения атрибутов, характеризующих авторский стиль (число слов в предложении, число потомков корня, глубина семантического дерева)"
   ]
  },
  {
   "cell_type": "code",
   "execution_count": 13,
   "metadata": {
    "collapsed": true
   },
   "outputs": [],
   "source": [
    "def attr(doc):\n",
    "    out = {'sentSize': len(doc)}\n",
    "    for word in doc:\n",
    "        if word.dep_ =='ROOT': out.update({'rootChild': len(list(word.children))})\n",
    "\n",
    "    import json\n",
    "\n",
    "    def depth(jsn):\n",
    "        if 'modifiers' in jsn.keys():\n",
    "            return 1 +  max([0] + list(map(depth, jsn['modifiers'])))\n",
    "        else:\n",
    "            return 1\n",
    "\n",
    "    j = json.loads(str(doc.print_tree()[0]).replace('\\'', \"\\\"\"))\n",
    "    out.update({'depthTree': depth(j)})\n",
    "    return out"
   ]
  },
  {
   "cell_type": "code",
   "execution_count": 14,
   "metadata": {},
   "outputs": [
    {
     "data": {
      "text/plain": [
       "Уезжали политики и бизнесмены, клерки и работяги, домохозяйки и мелкие лавочники, все, кто мог себе это позволить."
      ]
     },
     "execution_count": 14,
     "metadata": {},
     "output_type": "execute_result"
    }
   ],
   "source": [
    "doc"
   ]
  },
  {
   "cell_type": "code",
   "execution_count": 15,
   "metadata": {},
   "outputs": [
    {
     "data": {
      "text/plain": [
       "{'depthTree': 6, 'rootChild': 1, 'sentSize': 22}"
      ]
     },
     "execution_count": 15,
     "metadata": {},
     "output_type": "execute_result"
    }
   ],
   "source": [
    "attr(doc)"
   ]
  },
  {
   "cell_type": "markdown",
   "metadata": {},
   "source": [
    "Вычисление числа встречающихся в тексте различных трилетов (используются топ-10 из наиболее встречаемых трилетов):"
   ]
  },
  {
   "cell_type": "code",
   "execution_count": 16,
   "metadata": {
    "collapsed": true
   },
   "outputs": [],
   "source": [
    "from itertools import combinations\n",
    "\n",
    "def treelets(data, topN=10):\n",
    "    one_gram_treelet = {}\n",
    "    two_gram_treelet = {}\n",
    "    three_gram_treelet = {}\n",
    "    for sent in sent_tokenize(data):\n",
    "        doc = nlp(sent)\n",
    "\n",
    "        for token in doc:\n",
    "            key = token.pos_\n",
    "            one_gram_treelet.update({key: one_gram_treelet.get(key, 0) + 1})\n",
    "\n",
    "            key = (token.head.pos_, token.dep_, token.pos_)\n",
    "            two_gram_treelet.update({key: two_gram_treelet.get(key, 0) + 1})\n",
    "\n",
    "            for (left_child, right_child) in combinations(token.children, 2):\n",
    "                if left_child.dep_ != 'punct' and right_child.dep_ != 'punct':\n",
    "                    key = (1, left_child.pos_, left_child.dep_, token.pos_, right_child.dep_, right_child.pos_)\n",
    "                    three_gram_treelet.update({key: three_gram_treelet.get(key, 0) + 1})\n",
    "            if token.dep_ != 'ROOT':\n",
    "                for child in token.children:\n",
    "                    if child.dep_ == 'punct' or token.dep_ == 'punct':\n",
    "                        continue\n",
    "                    key = (2, child.pos_, child.dep_, token.pos_, token.dep_, token.head.pos_)\n",
    "                    three_gram_treelet.update({key: three_gram_treelet.get(key, 0) + 1})\n",
    "                    \n",
    "    import operator\n",
    "    sorted_1gram_treelet = {}\n",
    "    from collections import OrderedDict\n",
    "    from operator import itemgetter\n",
    "    sorted_1gram_treelet = dict((sorted(one_gram_treelet.items(), key=itemgetter(1)))[-topN:])  \n",
    "    sorted_2gram_treelet = dict((sorted(two_gram_treelet.items(), key=itemgetter(1)))[-topN:])\n",
    "    sorted_3gram_treelet = dict((sorted(three_gram_treelet.items(), key=itemgetter(1)))[-topN:])\n",
    "    return (len(sent_tokenize(data)), sorted_1gram_treelet, sorted_2gram_treelet, sorted_3gram_treelet)"
   ]
  },
  {
   "cell_type": "code",
   "execution_count": 17,
   "metadata": {},
   "outputs": [
    {
     "name": "stdout",
     "output_type": "stream",
     "text": [
      "1589\n",
      "{'PROPN': 701, 'CCONJ': 783, 'PART': 848, 'PRON': 1035, 'ADV': 1046, 'ADP': 1491, 'ADJ': 1495, 'VERB': 2742, 'NOUN': 3634, 'PUNCT': 4566}\n"
     ]
    }
   ],
   "source": [
    "(numOfSents, sorted_1gram_treelet, sorted_2gram_treelet, sorted_3gram_treelet) = treelets(data[0][0])\n",
    "print(numOfSents)\n",
    "print(sorted_1gram_treelet)"
   ]
  },
  {
   "cell_type": "code",
   "execution_count": 18,
   "metadata": {},
   "outputs": [
    {
     "name": "stdout",
     "output_type": "stream",
     "text": [
      "{('NOUN', 'nmod', 'NOUN'): 511, ('VERB', 'advmod', 'ADV'): 535, ('VERB', 'conj', 'VERB'): 577, ('VERB', 'nsubj', 'NOUN'): 599, ('NOUN', 'punct', 'PUNCT'): 634, ('NOUN', 'amod', 'ADJ'): 840, ('VERB', 'obl', 'NOUN'): 954, ('VERB', 'ROOT', 'VERB'): 1034, ('NOUN', 'case', 'ADP'): 1096, ('VERB', 'punct', 'PUNCT'): 2131}\n",
      "[('NOUN', 'nmod', 'NOUN'), ('VERB', 'advmod', 'ADV'), ('VERB', 'conj', 'VERB'), ('VERB', 'nsubj', 'NOUN'), ('NOUN', 'punct', 'PUNCT'), ('NOUN', 'amod', 'ADJ'), ('VERB', 'obl', 'NOUN'), ('VERB', 'ROOT', 'VERB'), ('NOUN', 'case', 'ADP'), ('VERB', 'punct', 'PUNCT')]\n"
     ]
    }
   ],
   "source": [
    "print(sorted_2gram_treelet)\n",
    "print(list(sorted_2gram_treelet.keys()))"
   ]
  },
  {
   "cell_type": "code",
   "execution_count": 19,
   "metadata": {},
   "outputs": [
    {
     "name": "stdout",
     "output_type": "stream",
     "text": [
      "{(1, 'NOUN', 'nsubj', 'VERB', 'obl', 'NOUN'): 161, (1, 'CCONJ', 'cc', 'VERB', 'obl', 'NOUN'): 178, (2, 'ADJ', 'amod', 'NOUN', 'obl', 'VERB'): 205, (1, 'NOUN', 'nsubj', 'VERB', 'conj', 'VERB'): 231, (2, 'NOUN', 'obl', 'VERB', 'conj', 'VERB'): 236, (1, 'ADP', 'case', 'NOUN', 'amod', 'ADJ'): 252, (1, 'NOUN', 'obl', 'VERB', 'conj', 'VERB'): 256, (1, 'VERB', 'conj', 'VERB', 'conj', 'VERB'): 258, (2, 'CCONJ', 'cc', 'VERB', 'conj', 'VERB'): 271, (2, 'ADP', 'case', 'NOUN', 'obl', 'VERB'): 720}\n"
     ]
    }
   ],
   "source": [
    "print(sorted_3gram_treelet)"
   ]
  },
  {
   "cell_type": "code",
   "execution_count": 20,
   "metadata": {
    "collapsed": true
   },
   "outputs": [],
   "source": [
    "import pickle"
   ]
  },
  {
   "cell_type": "markdown",
   "metadata": {},
   "source": [
    "Анализ текстов по трилетам и сохранение полученных атрибутов для дальнейшего использования:"
   ]
  },
  {
   "cell_type": "code",
   "execution_count": null,
   "metadata": {
    "collapsed": true
   },
   "outputs": [],
   "source": [
    "trByAuth = []\n",
    "for authorTexts in data:\n",
    "    trByText = []\n",
    "    for text in authorTexts:\n",
    "        trByText.append(treelets(text))\n",
    "    trByAuth.append(trByText)        \n",
    "with open('dataTr.pickle', 'wb') as f:\n",
    "    pickle.dump(trByAuth, f) "
   ]
  },
  {
   "cell_type": "code",
   "execution_count": 21,
   "metadata": {
    "collapsed": true
   },
   "outputs": [],
   "source": [
    "with open('dataTr.pickle', 'rb') as f:\n",
    "    trByAuth = pickle.load(f)"
   ]
  },
  {
   "cell_type": "code",
   "execution_count": 22,
   "metadata": {
    "collapsed": true
   },
   "outputs": [],
   "source": [
    "trAuth = []\n",
    "for auth in trByAuth:\n",
    "    trText = []\n",
    "    for text in auth:\n",
    "        numOfSent = 1\n",
    "        numOfTreelets = list(map(lambda x: x/numOfSent, list(text[1].values()) + list(text[2].values()) + list(text[3].values())))\n",
    "        trText.append(numOfTreelets)\n",
    "    trAuth.append(trText)"
   ]
  },
  {
   "cell_type": "markdown",
   "metadata": {},
   "source": [
    "K-Means кластеризация:"
   ]
  },
  {
   "cell_type": "code",
   "execution_count": 23,
   "metadata": {
    "collapsed": true
   },
   "outputs": [],
   "source": [
    "from sklearn.cluster import KMeans\n",
    "Xtr = trAuth[0] + trAuth[1] + trAuth[2] + trAuth[3] + trAuth[4]"
   ]
  },
  {
   "cell_type": "code",
   "execution_count": 24,
   "metadata": {
    "collapsed": true
   },
   "outputs": [],
   "source": [
    "# костыль, у одного из списков не совпадает размер с остальными Т_Т\n",
    "for lst in Xtr:\n",
    "    if(len(lst) < 30):\n",
    "        while(len(lst) < 30):\n",
    "            lst.append(0)"
   ]
  },
  {
   "cell_type": "markdown",
   "metadata": {},
   "source": [
    "Выбор оптимального числа классов:"
   ]
  },
  {
   "cell_type": "code",
   "execution_count": 25,
   "metadata": {
    "collapsed": true
   },
   "outputs": [],
   "source": [
    "sse = {}\n",
    "for k in range(1, 20):\n",
    "    kmeans = KMeans(n_clusters=k).fit(Xtr)\n",
    "    sse[k] = kmeans.inertia_ # Inertia: Sum of distances of samples to their closest cluster center"
   ]
  },
  {
   "cell_type": "code",
   "execution_count": 26,
   "metadata": {},
   "outputs": [
    {
     "data": {
      "image/png": "[encoded data removed]",
      "text/plain": [
       "<Figure size 432x288 with 1 Axes>"
      ]
     },
     "metadata": {},
     "output_type": "display_data"
    }
   ],
   "source": [
    "%matplotlib inline\n",
    "import matplotlib.pyplot as plt\n",
    "plt.figure()\n",
    "plt.plot(list(sse.keys()), list(sse.values()))\n",
    "plt.xlabel(\"Number of cluster\")\n",
    "plt.ylabel(\"SSE\")\n",
    "plt.show()"
   ]
  },
  {
   "cell_type": "markdown",
   "metadata": {},
   "source": [
    "Выберем число кластеров, равное 5 (по числу авторов):"
   ]
  },
  {
   "cell_type": "code",
   "execution_count": 27,
   "metadata": {
    "collapsed": true
   },
   "outputs": [],
   "source": [
    "kmeans = KMeans(n_clusters=5, random_state=0).fit(Xtr)"
   ]
  },
  {
   "cell_type": "markdown",
   "metadata": {},
   "source": [
    "Доля соответствия номера автора номеру кластера:"
   ]
  },
  {
   "cell_type": "code",
   "execution_count": 28,
   "metadata": {
    "collapsed": true
   },
   "outputs": [],
   "source": [
    "import numpy as np\n",
    "matches = []\n",
    "for Nclust in range(5):\n",
    "    clustMatches = []\n",
    "    for Nauth in range(5):\n",
    "        authMatches = 0\n",
    "        for i in kmeans.predict(np.array(trAuth[Nauth])):\n",
    "            if i == Nclust: authMatches += 1\n",
    "        clustMatches.append(authMatches/len(trAuth[Nauth]))\n",
    "    matches.append(clustMatches)"
   ]
  },
  {
   "cell_type": "code",
   "execution_count": 29,
   "metadata": {},
   "outputs": [
    {
     "name": "stdout",
     "output_type": "stream",
     "text": [
      "0.105263 0.000000 0.083333 0.000000 0.133333 4\n",
      "0.000000 0.533333 0.166667 0.095238 0.000000 1\n",
      "0.000000 0.300000 0.000000 0.047619 0.800000 4\n",
      "0.052632 0.033333 0.250000 0.142857 0.066667 2\n",
      "0.842105 0.133333 0.500000 0.714286 0.000000 0\n"
     ]
    }
   ],
   "source": [
    "for line in matches:\n",
    "    for item in line:\n",
    "        print(\"{:f}\".format(item), end=' ')\n",
    "    print(np.argmax(line), end='')\n",
    "    print()"
   ]
  },
  {
   "cell_type": "markdown",
   "metadata": {},
   "source": [
    "Анализ текстов по атрибутам дерева, сохранение полученных атрибутов для дальнейшего использования:"
   ]
  },
  {
   "cell_type": "code",
   "execution_count": 30,
   "metadata": {},
   "outputs": [
    {
     "ename": "KeyboardInterrupt",
     "evalue": "",
     "output_type": "error",
     "traceback": [
      "\u001b[1;31m---------------------------------------------------------------------------\u001b[0m",
      "\u001b[1;31mKeyboardInterrupt\u001b[0m                         Traceback (most recent call last)",
      "\u001b[1;32m<ipython-input-30-522fd69bac43>\u001b[0m in \u001b[0;36m<module>\u001b[1;34m()\u001b[0m\n\u001b[0;32m      6\u001b[0m         \u001b[0mattrBySent\u001b[0m \u001b[1;33m=\u001b[0m \u001b[1;33m[\u001b[0m\u001b[1;33m]\u001b[0m\u001b[1;33m\u001b[0m\u001b[0m\n\u001b[0;32m      7\u001b[0m         \u001b[1;32mfor\u001b[0m \u001b[0msent\u001b[0m \u001b[1;32min\u001b[0m \u001b[0msents\u001b[0m\u001b[1;33m:\u001b[0m\u001b[1;33m\u001b[0m\u001b[0m\n\u001b[1;32m----> 8\u001b[1;33m             \u001b[0mdoc\u001b[0m \u001b[1;33m=\u001b[0m \u001b[0mnlp\u001b[0m\u001b[1;33m(\u001b[0m\u001b[0msent\u001b[0m\u001b[1;33m)\u001b[0m\u001b[1;33m\u001b[0m\u001b[0m\n\u001b[0m\u001b[0;32m      9\u001b[0m             \u001b[1;32mtry\u001b[0m\u001b[1;33m:\u001b[0m\u001b[1;33m\u001b[0m\u001b[0m\n\u001b[0;32m     10\u001b[0m                 \u001b[0mattrBySent\u001b[0m\u001b[1;33m.\u001b[0m\u001b[0mappend\u001b[0m\u001b[1;33m(\u001b[0m\u001b[0mattr\u001b[0m\u001b[1;33m(\u001b[0m\u001b[0mdoc\u001b[0m\u001b[1;33m)\u001b[0m\u001b[1;33m)\u001b[0m\u001b[1;33m\u001b[0m\u001b[0m\n",
      "\u001b[1;32m~\\Anaconda3\\lib\\site-packages\\spacy\\language.py\u001b[0m in \u001b[0;36m__call__\u001b[1;34m(self, text, disable)\u001b[0m\n\u001b[0;32m    338\u001b[0m             raise ValueError(Errors.E088.format(length=len(text),\n\u001b[0;32m    339\u001b[0m                                                 max_length=self.max_length))\n\u001b[1;32m--> 340\u001b[1;33m         \u001b[0mdoc\u001b[0m \u001b[1;33m=\u001b[0m \u001b[0mself\u001b[0m\u001b[1;33m.\u001b[0m\u001b[0mmake_doc\u001b[0m\u001b[1;33m(\u001b[0m\u001b[0mtext\u001b[0m\u001b[1;33m)\u001b[0m\u001b[1;33m\u001b[0m\u001b[0m\n\u001b[0m\u001b[0;32m    341\u001b[0m         \u001b[1;32mfor\u001b[0m \u001b[0mname\u001b[0m\u001b[1;33m,\u001b[0m \u001b[0mproc\u001b[0m \u001b[1;32min\u001b[0m \u001b[0mself\u001b[0m\u001b[1;33m.\u001b[0m\u001b[0mpipeline\u001b[0m\u001b[1;33m:\u001b[0m\u001b[1;33m\u001b[0m\u001b[0m\n\u001b[0;32m    342\u001b[0m             \u001b[1;32mif\u001b[0m \u001b[0mname\u001b[0m \u001b[1;32min\u001b[0m \u001b[0mdisable\u001b[0m\u001b[1;33m:\u001b[0m\u001b[1;33m\u001b[0m\u001b[0m\n",
      "\u001b[1;32m~\\Anaconda3\\lib\\site-packages\\spacy\\language.py\u001b[0m in \u001b[0;36mmake_doc\u001b[1;34m(self, text)\u001b[0m\n\u001b[0;32m    370\u001b[0m \u001b[1;33m\u001b[0m\u001b[0m\n\u001b[0;32m    371\u001b[0m     \u001b[1;32mdef\u001b[0m \u001b[0mmake_doc\u001b[0m\u001b[1;33m(\u001b[0m\u001b[0mself\u001b[0m\u001b[1;33m,\u001b[0m \u001b[0mtext\u001b[0m\u001b[1;33m)\u001b[0m\u001b[1;33m:\u001b[0m\u001b[1;33m\u001b[0m\u001b[0m\n\u001b[1;32m--> 372\u001b[1;33m         \u001b[1;32mreturn\u001b[0m \u001b[0mself\u001b[0m\u001b[1;33m.\u001b[0m\u001b[0mtokenizer\u001b[0m\u001b[1;33m(\u001b[0m\u001b[0mtext\u001b[0m\u001b[1;33m)\u001b[0m\u001b[1;33m\u001b[0m\u001b[0m\n\u001b[0m\u001b[0;32m    373\u001b[0m \u001b[1;33m\u001b[0m\u001b[0m\n\u001b[0;32m    374\u001b[0m     \u001b[1;32mdef\u001b[0m \u001b[0mupdate\u001b[0m\u001b[1;33m(\u001b[0m\u001b[0mself\u001b[0m\u001b[1;33m,\u001b[0m \u001b[0mdocs\u001b[0m\u001b[1;33m,\u001b[0m \u001b[0mgolds\u001b[0m\u001b[1;33m,\u001b[0m \u001b[0mdrop\u001b[0m\u001b[1;33m=\u001b[0m\u001b[1;36m0.\u001b[0m\u001b[1;33m,\u001b[0m \u001b[0msgd\u001b[0m\u001b[1;33m=\u001b[0m\u001b[1;32mNone\u001b[0m\u001b[1;33m,\u001b[0m \u001b[0mlosses\u001b[0m\u001b[1;33m=\u001b[0m\u001b[1;32mNone\u001b[0m\u001b[1;33m)\u001b[0m\u001b[1;33m:\u001b[0m\u001b[1;33m\u001b[0m\u001b[0m\n",
      "\u001b[1;32mtokenizer.pyx\u001b[0m in \u001b[0;36mspacy.tokenizer.Tokenizer.__call__\u001b[1;34m()\u001b[0m\n",
      "\u001b[1;32mtokenizer.pyx\u001b[0m in \u001b[0;36mspacy.tokenizer.Tokenizer._tokenize\u001b[1;34m()\u001b[0m\n",
      "\u001b[1;32mtokenizer.pyx\u001b[0m in \u001b[0;36mspacy.tokenizer.Tokenizer._attach_tokens\u001b[1;34m()\u001b[0m\n",
      "\u001b[1;32mvocab.pyx\u001b[0m in \u001b[0;36mspacy.vocab.Vocab.get\u001b[1;34m()\u001b[0m\n",
      "\u001b[1;32mvocab.pyx\u001b[0m in \u001b[0;36mspacy.vocab.Vocab._new_lexeme\u001b[1;34m()\u001b[0m\n",
      "\u001b[1;32m~\\Anaconda3\\lib\\site-packages\\spacy\\lang\\lex_attrs.py\u001b[0m in \u001b[0;36mlower\u001b[1;34m(string)\u001b[0m\n\u001b[0;32m    135\u001b[0m     \u001b[1;32mreturn\u001b[0m \u001b[1;34m''\u001b[0m\u001b[1;33m.\u001b[0m\u001b[0mjoin\u001b[0m\u001b[1;33m(\u001b[0m\u001b[0mshape\u001b[0m\u001b[1;33m)\u001b[0m\u001b[1;33m\u001b[0m\u001b[0m\n\u001b[0;32m    136\u001b[0m \u001b[1;33m\u001b[0m\u001b[0m\n\u001b[1;32m--> 137\u001b[1;33m \u001b[1;32mdef\u001b[0m \u001b[0mlower\u001b[0m\u001b[1;33m(\u001b[0m\u001b[0mstring\u001b[0m\u001b[1;33m)\u001b[0m\u001b[1;33m:\u001b[0m \u001b[1;32mreturn\u001b[0m \u001b[0mstring\u001b[0m\u001b[1;33m.\u001b[0m\u001b[0mlower\u001b[0m\u001b[1;33m(\u001b[0m\u001b[1;33m)\u001b[0m\u001b[1;33m\u001b[0m\u001b[0m\n\u001b[0m\u001b[0;32m    138\u001b[0m \u001b[1;32mdef\u001b[0m \u001b[0mprefix\u001b[0m\u001b[1;33m(\u001b[0m\u001b[0mstring\u001b[0m\u001b[1;33m)\u001b[0m\u001b[1;33m:\u001b[0m \u001b[1;32mreturn\u001b[0m \u001b[0mstring\u001b[0m\u001b[1;33m[\u001b[0m\u001b[1;36m0\u001b[0m\u001b[1;33m]\u001b[0m\u001b[1;33m\u001b[0m\u001b[0m\n\u001b[0;32m    139\u001b[0m \u001b[1;32mdef\u001b[0m \u001b[0msuffix\u001b[0m\u001b[1;33m(\u001b[0m\u001b[0mstring\u001b[0m\u001b[1;33m)\u001b[0m\u001b[1;33m:\u001b[0m \u001b[1;32mreturn\u001b[0m \u001b[0mstring\u001b[0m\u001b[1;33m[\u001b[0m\u001b[1;33m-\u001b[0m\u001b[1;36m3\u001b[0m\u001b[1;33m:\u001b[0m\u001b[1;33m]\u001b[0m\u001b[1;33m\u001b[0m\u001b[0m\n",
      "\u001b[1;31mKeyboardInterrupt\u001b[0m: "
     ]
    }
   ],
   "source": [
    "attrsByAuth = []\n",
    "for authorTexts in data:\n",
    "    attrsByText = []\n",
    "    for text in authorTexts:\n",
    "        sents = sent_tokenize(text)\n",
    "        attrBySent = []\n",
    "        for sent in sents:\n",
    "            doc = nlp(sent)\n",
    "            try:\n",
    "                attrBySent.append(attr(doc))\n",
    "            except:\n",
    "                pass\n",
    "        attrsByText.append(attrBySent)\n",
    "    attrsByAuth.append(attrsByText)\n",
    "    with open('data.pickle', 'wb') as f:\n",
    "        pickle.dump(attrsByAuth, f)"
   ]
  },
  {
   "cell_type": "code",
   "execution_count": 30,
   "metadata": {
    "collapsed": true
   },
   "outputs": [],
   "source": [
    "with open('data.pickle', 'rb') as f:\n",
    "    attrsByAuth = pickle.load(f)"
   ]
  },
  {
   "cell_type": "markdown",
   "metadata": {},
   "source": [
    "Средние значения и СКО атрибутов по авторам (для первого текста):"
   ]
  },
  {
   "cell_type": "code",
   "execution_count": 31,
   "metadata": {},
   "outputs": [
    {
     "name": "stdout",
     "output_type": "stream",
     "text": [
      "3.8410852713178296 1.610468614442231\n",
      "3.7966197183098593 1.6236942261068978\n",
      "3.660300136425648 1.399870747283324\n",
      "3.7436323366555926 1.381394678561367\n",
      "4.026902382782475 1.476450658233198\n"
     ]
    }
   ],
   "source": [
    "import numpy as np\n",
    "for i in range(5):\n",
    "    depthTreeMean = np.mean([sent['depthTree'] for sent in attrsByAuth[i][0]])\n",
    "    depthTreeStd = np.std([sent['depthTree'] for sent in attrsByAuth[i][0]])\n",
    "    print(depthTreeMean, depthTreeStd)"
   ]
  },
  {
   "cell_type": "markdown",
   "metadata": {},
   "source": [
    "Усреднение атрибутов по всем текстам каждого из авторов:"
   ]
  },
  {
   "cell_type": "code",
   "execution_count": 32,
   "metadata": {
    "collapsed": true
   },
   "outputs": [],
   "source": [
    "aAuth = []\n",
    "for auth in attrsByAuth:\n",
    "    aText = []\n",
    "    for text in auth:\n",
    "        x = [0,0,0]\n",
    "        n = len(text)\n",
    "        for sent in text:\n",
    "            x[0] += sent['depthTree'] / n\n",
    "            x[1] += sent['rootChild'] / n\n",
    "            x[2] += sent['sentSize'] / n\n",
    "        aText.append(x)\n",
    "    aAuth.append(aText)"
   ]
  },
  {
   "cell_type": "markdown",
   "metadata": {},
   "source": [
    "K-Means кластеризация:"
   ]
  },
  {
   "cell_type": "code",
   "execution_count": 33,
   "metadata": {
    "collapsed": true
   },
   "outputs": [],
   "source": [
    "X = np.array(aAuth[0] + aAuth[1] + aAuth[2] + aAuth[3] + aAuth[4])"
   ]
  },
  {
   "cell_type": "markdown",
   "metadata": {},
   "source": [
    "Выбор оптимального числа классов:"
   ]
  },
  {
   "cell_type": "code",
   "execution_count": 34,
   "metadata": {
    "collapsed": true
   },
   "outputs": [],
   "source": [
    "sse = {}\n",
    "for k in range(1, 20):\n",
    "    kmeans = KMeans(n_clusters=k).fit(X)\n",
    "    sse[k] = kmeans.inertia_ # Inertia: Sum of distances of samples to their closest cluster center"
   ]
  },
  {
   "cell_type": "code",
   "execution_count": 35,
   "metadata": {},
   "outputs": [
    {
     "data": {
      "image/png": "[encoded data removed]",
      "text/plain": [
       "<Figure size 432x288 with 1 Axes>"
      ]
     },
     "metadata": {},
     "output_type": "display_data"
    }
   ],
   "source": [
    "%matplotlib inline\n",
    "import matplotlib.pyplot as plt\n",
    "plt.figure()\n",
    "plt.plot(list(sse.keys()), list(sse.values()))\n",
    "plt.xlabel(\"Number of cluster\")\n",
    "plt.ylabel(\"SSE\")\n",
    "plt.show()"
   ]
  },
  {
   "cell_type": "code",
   "execution_count": 36,
   "metadata": {
    "collapsed": true
   },
   "outputs": [],
   "source": [
    "kmeans = KMeans(n_clusters=5, random_state=0).fit(X)"
   ]
  },
  {
   "cell_type": "markdown",
   "metadata": {},
   "source": [
    "Доля соответствия номера автора номеру кластера:"
   ]
  },
  {
   "cell_type": "code",
   "execution_count": 37,
   "metadata": {
    "collapsed": true
   },
   "outputs": [],
   "source": [
    "matches = []\n",
    "for Nclust in range(5):\n",
    "    clustMatches = []\n",
    "    for Nauth in range(5):\n",
    "        authMatches = 0\n",
    "        for i in kmeans.predict(np.array(aAuth[Nauth])):\n",
    "            if i == Nclust: authMatches += 1\n",
    "        clustMatches.append(authMatches/len(aAuth[Nauth]))\n",
    "    matches.append(clustMatches)"
   ]
  },
  {
   "cell_type": "code",
   "execution_count": 38,
   "metadata": {},
   "outputs": [
    {
     "name": "stdout",
     "output_type": "stream",
     "text": [
      "0.052632 0.233333 0.166667 0.047619 0.000000 1\n",
      "0.000000 0.000000 0.000000 0.047619 0.000000 3\n",
      "0.157895 0.133333 0.000000 0.047619 1.000000 4\n",
      "0.000000 0.300000 0.000000 0.000000 0.000000 1\n",
      "0.789474 0.333333 0.833333 0.857143 0.000000 3\n"
     ]
    }
   ],
   "source": [
    "for line in matches:\n",
    "    for item in line:\n",
    "        print(\"{:f}\".format(item), end=' ')\n",
    "    print(np.argmax(line), end='')\n",
    "    print()"
   ]
  },
  {
   "cell_type": "markdown",
   "metadata": {},
   "source": [
    "Аналогичная кластеризация без усреднения по предложениям:"
   ]
  },
  {
   "cell_type": "code",
   "execution_count": 39,
   "metadata": {
    "collapsed": true
   },
   "outputs": [],
   "source": [
    "aAuthL = []\n",
    "for auth in attrsByAuth:\n",
    "    aText = []\n",
    "    for text in auth:\n",
    "        for sent in text:\n",
    "            aText.append([ sent['depthTree'], sent['rootChild'], sent['sentSize'] ])\n",
    "    aAuthL.append(aText)"
   ]
  },
  {
   "cell_type": "code",
   "execution_count": 40,
   "metadata": {
    "collapsed": true
   },
   "outputs": [],
   "source": [
    "XL = np.array(aAuthL[0] + aAuthL[1] + aAuthL[2] + aAuthL[3] + aAuthL[4])"
   ]
  },
  {
   "cell_type": "markdown",
   "metadata": {},
   "source": [
    "Выбор оптимального числа классов:"
   ]
  },
  {
   "cell_type": "code",
   "execution_count": 41,
   "metadata": {
    "collapsed": true
   },
   "outputs": [],
   "source": [
    "sse = {}\n",
    "for k in range(1, 20):\n",
    "    kmeans = KMeans(n_clusters=k).fit(XL)\n",
    "    sse[k] = kmeans.inertia_ # Inertia: Sum of distances of samples to their closest cluster center"
   ]
  },
  {
   "cell_type": "code",
   "execution_count": 42,
   "metadata": {},
   "outputs": [
    {
     "data": {
      "image/png": "[encoded data removed]",
      "text/plain": [
       "<Figure size 432x288 with 1 Axes>"
      ]
     },
     "metadata": {},
     "output_type": "display_data"
    }
   ],
   "source": [
    "%matplotlib inline\n",
    "import matplotlib.pyplot as plt\n",
    "plt.figure()\n",
    "plt.plot(list(sse.keys()), list(sse.values()))\n",
    "plt.xlabel(\"Number of cluster\")\n",
    "plt.ylabel(\"SSE\")\n",
    "plt.show()"
   ]
  },
  {
   "cell_type": "code",
   "execution_count": 43,
   "metadata": {
    "collapsed": true
   },
   "outputs": [],
   "source": [
    "kmeans = KMeans(n_clusters=5, random_state=0).fit(XL)"
   ]
  },
  {
   "cell_type": "markdown",
   "metadata": {},
   "source": [
    "Доля соответствия номера автора номеру кластера:"
   ]
  },
  {
   "cell_type": "code",
   "execution_count": 44,
   "metadata": {
    "collapsed": true
   },
   "outputs": [],
   "source": [
    "matches = []\n",
    "for Nclust in range(5):\n",
    "    clustMatches = []\n",
    "    for Nauth in range(5):\n",
    "        authMatches = 0\n",
    "        for i in kmeans.predict(np.array(aAuth[Nauth])):\n",
    "            if i == Nclust: authMatches += 1\n",
    "        clustMatches.append(authMatches/len(aAuth[Nauth]))\n",
    "    matches.append(clustMatches)"
   ]
  },
  {
   "cell_type": "code",
   "execution_count": 45,
   "metadata": {},
   "outputs": [
    {
     "name": "stdout",
     "output_type": "stream",
     "text": [
      "1.000000 0.700000 1.000000 0.952381 1.000000 0\n",
      "0.000000 0.166667 0.000000 0.000000 0.000000 1\n",
      "0.000000 0.000000 0.000000 0.000000 0.000000 0\n",
      "0.000000 0.000000 0.000000 0.047619 0.000000 3\n",
      "0.000000 0.133333 0.000000 0.000000 0.000000 1\n"
     ]
    }
   ],
   "source": [
    "for line in matches:\n",
    "    for item in line:\n",
    "        print(\"{:f}\".format(item), end=' ')\n",
    "    print(np.argmax(line), end='')\n",
    "    print()"
   ]
  },
  {
   "cell_type": "code",
   "execution_count": 46,
   "metadata": {
    "collapsed": true
   },
   "outputs": [],
   "source": [
    "from matplotlib import pyplot as plt\n",
    "from scipy.cluster.hierarchy import dendrogram, linkage"
   ]
  },
  {
   "cell_type": "code",
   "execution_count": 47,
   "metadata": {
    "collapsed": true
   },
   "outputs": [],
   "source": [
    "np.set_printoptions(precision=5, suppress=True)  # suppress scientific float notation"
   ]
  },
  {
   "cell_type": "markdown",
   "metadata": {},
   "source": [
    "Построение матрицы связи:"
   ]
  },
  {
   "cell_type": "code",
   "execution_count": 48,
   "metadata": {
    "collapsed": true
   },
   "outputs": [],
   "source": [
    "Z = linkage(Xtr, 'ward')"
   ]
  },
  {
   "cell_type": "code",
   "execution_count": 49,
   "metadata": {},
   "outputs": [
    {
     "data": {
      "text/plain": [
       "0.9260260331600106"
      ]
     },
     "execution_count": 49,
     "metadata": {},
     "output_type": "execute_result"
    }
   ],
   "source": [
    "from scipy.cluster.hierarchy import cophenet\n",
    "from scipy.spatial.distance import pdist\n",
    "\n",
    "c, coph_dists = cophenet(Z, pdist(Xtr))\n",
    "c"
   ]
  },
  {
   "cell_type": "markdown",
   "metadata": {
    "collapsed": true
   },
   "source": [
    "Построение полной дендрограммы:"
   ]
  },
  {
   "cell_type": "code",
   "execution_count": 50,
   "metadata": {},
   "outputs": [
    {
     "data": {
      "image/png": "[encoded data removed]",
      "text/plain": [
       "<Figure size 1800x720 with 1 Axes>"
      ]
     },
     "metadata": {},
     "output_type": "display_data"
    }
   ],
   "source": [
    "plt.figure(figsize=(25, 10))\n",
    "plt.title('Hierarchical Clustering Dendrogram')\n",
    "plt.xlabel('sample index')\n",
    "plt.ylabel('distance')\n",
    "dendrogram(\n",
    "    Z,\n",
    "    leaf_rotation=90.,  # rotates the x axis labels\n",
    "    leaf_font_size=8.,  # font size for the x axis labels\n",
    ")\n",
    "plt.show()"
   ]
  }
 ],
 "metadata": {
  "kernelspec": {
   "display_name": "Python 3",
   "language": "python",
   "name": "python3"
  },
  "language_info": {
   "codemirror_mode": {
    "name": "ipython",
    "version": 3
   },
   "file_extension": ".py",
   "mimetype": "text/x-python",
   "name": "python",
   "nbconvert_exporter": "python",
   "pygments_lexer": "ipython3",
   "version": "3.6.2"
  }
 },
 "nbformat": 4,
 "nbformat_minor": 2
}
